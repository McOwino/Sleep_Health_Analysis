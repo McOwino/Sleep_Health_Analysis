{
 "cells": [
  {
   "cell_type": "code",
   "execution_count": 1,
   "id": "578091ae",
   "metadata": {},
   "outputs": [],
   "source": [
    "#import the Standard libries\n",
    "import pandas as pd\n",
    "import numpy as np\n",
    "import seaborn as sns\n",
    "import matplotlib.pyplot as plt\n",
    "import warnings \n",
    "warnings.filterwarnings('ignore')\n"
   ]
  },
  {
   "cell_type": "code",
   "execution_count": 2,
   "id": "a3f34370",
   "metadata": {},
   "outputs": [
    {
     "data": {
      "text/html": [
       "<div>\n",
       "<style scoped>\n",
       "    .dataframe tbody tr th:only-of-type {\n",
       "        vertical-align: middle;\n",
       "    }\n",
       "\n",
       "    .dataframe tbody tr th {\n",
       "        vertical-align: top;\n",
       "    }\n",
       "\n",
       "    .dataframe thead th {\n",
       "        text-align: right;\n",
       "    }\n",
       "</style>\n",
       "<table border=\"1\" class=\"dataframe\">\n",
       "  <thead>\n",
       "    <tr style=\"text-align: right;\">\n",
       "      <th></th>\n",
       "      <th>Person ID</th>\n",
       "      <th>Gender</th>\n",
       "      <th>Age</th>\n",
       "      <th>Occupation</th>\n",
       "      <th>Sleep Duration</th>\n",
       "      <th>Quality of Sleep</th>\n",
       "      <th>Physical Activity Level</th>\n",
       "      <th>Stress Level</th>\n",
       "      <th>BMI Category</th>\n",
       "      <th>Blood Pressure</th>\n",
       "      <th>Heart Rate</th>\n",
       "      <th>Daily Steps</th>\n",
       "      <th>Sleep Disorder</th>\n",
       "    </tr>\n",
       "  </thead>\n",
       "  <tbody>\n",
       "    <tr>\n",
       "      <th>0</th>\n",
       "      <td>1</td>\n",
       "      <td>Male</td>\n",
       "      <td>27</td>\n",
       "      <td>Software Engineer</td>\n",
       "      <td>6.1</td>\n",
       "      <td>6</td>\n",
       "      <td>42</td>\n",
       "      <td>6</td>\n",
       "      <td>Overweight</td>\n",
       "      <td>126/83</td>\n",
       "      <td>77</td>\n",
       "      <td>4200</td>\n",
       "      <td>None</td>\n",
       "    </tr>\n",
       "    <tr>\n",
       "      <th>1</th>\n",
       "      <td>2</td>\n",
       "      <td>Male</td>\n",
       "      <td>28</td>\n",
       "      <td>Doctor</td>\n",
       "      <td>6.2</td>\n",
       "      <td>6</td>\n",
       "      <td>60</td>\n",
       "      <td>8</td>\n",
       "      <td>Normal</td>\n",
       "      <td>125/80</td>\n",
       "      <td>75</td>\n",
       "      <td>10000</td>\n",
       "      <td>None</td>\n",
       "    </tr>\n",
       "    <tr>\n",
       "      <th>2</th>\n",
       "      <td>3</td>\n",
       "      <td>Male</td>\n",
       "      <td>28</td>\n",
       "      <td>Doctor</td>\n",
       "      <td>6.2</td>\n",
       "      <td>6</td>\n",
       "      <td>60</td>\n",
       "      <td>8</td>\n",
       "      <td>Normal</td>\n",
       "      <td>125/80</td>\n",
       "      <td>75</td>\n",
       "      <td>10000</td>\n",
       "      <td>None</td>\n",
       "    </tr>\n",
       "    <tr>\n",
       "      <th>3</th>\n",
       "      <td>4</td>\n",
       "      <td>Male</td>\n",
       "      <td>28</td>\n",
       "      <td>Sales Representative</td>\n",
       "      <td>5.9</td>\n",
       "      <td>4</td>\n",
       "      <td>30</td>\n",
       "      <td>8</td>\n",
       "      <td>Obese</td>\n",
       "      <td>140/90</td>\n",
       "      <td>85</td>\n",
       "      <td>3000</td>\n",
       "      <td>Sleep Apnea</td>\n",
       "    </tr>\n",
       "    <tr>\n",
       "      <th>4</th>\n",
       "      <td>5</td>\n",
       "      <td>Male</td>\n",
       "      <td>28</td>\n",
       "      <td>Sales Representative</td>\n",
       "      <td>5.9</td>\n",
       "      <td>4</td>\n",
       "      <td>30</td>\n",
       "      <td>8</td>\n",
       "      <td>Obese</td>\n",
       "      <td>140/90</td>\n",
       "      <td>85</td>\n",
       "      <td>3000</td>\n",
       "      <td>Sleep Apnea</td>\n",
       "    </tr>\n",
       "  </tbody>\n",
       "</table>\n",
       "</div>"
      ],
      "text/plain": [
       "   Person ID Gender  Age            Occupation  Sleep Duration  \\\n",
       "0          1   Male   27     Software Engineer             6.1   \n",
       "1          2   Male   28                Doctor             6.2   \n",
       "2          3   Male   28                Doctor             6.2   \n",
       "3          4   Male   28  Sales Representative             5.9   \n",
       "4          5   Male   28  Sales Representative             5.9   \n",
       "\n",
       "   Quality of Sleep  Physical Activity Level  Stress Level BMI Category  \\\n",
       "0                 6                       42             6   Overweight   \n",
       "1                 6                       60             8       Normal   \n",
       "2                 6                       60             8       Normal   \n",
       "3                 4                       30             8        Obese   \n",
       "4                 4                       30             8        Obese   \n",
       "\n",
       "  Blood Pressure  Heart Rate  Daily Steps Sleep Disorder  \n",
       "0         126/83          77         4200           None  \n",
       "1         125/80          75        10000           None  \n",
       "2         125/80          75        10000           None  \n",
       "3         140/90          85         3000    Sleep Apnea  \n",
       "4         140/90          85         3000    Sleep Apnea  "
      ]
     },
     "execution_count": 2,
     "metadata": {},
     "output_type": "execute_result"
    }
   ],
   "source": [
    "#load the data using pandas read functions\n",
    "data=pd.read_csv('Sleep_health_and_lifestyle_dataset.csv')\n",
    "data.head()"
   ]
  },
  {
   "cell_type": "code",
   "execution_count": 3,
   "id": "67b68276",
   "metadata": {},
   "outputs": [
    {
     "name": "stdout",
     "output_type": "stream",
     "text": [
      "The data set contains 13 columns and rows are 374\n"
     ]
    }
   ],
   "source": [
    "#Checking the data shape\n",
    "print(f\"The data set contains {data.shape[1]} columns and rows are {data.shape[0]}\")"
   ]
  },
  {
   "cell_type": "code",
   "execution_count": 4,
   "id": "464b769f",
   "metadata": {},
   "outputs": [
    {
     "name": "stdout",
     "output_type": "stream",
     "text": [
      "<class 'pandas.core.frame.DataFrame'>\n",
      "RangeIndex: 374 entries, 0 to 373\n",
      "Data columns (total 13 columns):\n",
      " #   Column                   Non-Null Count  Dtype  \n",
      "---  ------                   --------------  -----  \n",
      " 0   Person ID                374 non-null    int64  \n",
      " 1   Gender                   374 non-null    object \n",
      " 2   Age                      374 non-null    int64  \n",
      " 3   Occupation               374 non-null    object \n",
      " 4   Sleep Duration           374 non-null    float64\n",
      " 5   Quality of Sleep         374 non-null    int64  \n",
      " 6   Physical Activity Level  374 non-null    int64  \n",
      " 7   Stress Level             374 non-null    int64  \n",
      " 8   BMI Category             374 non-null    object \n",
      " 9   Blood Pressure           374 non-null    object \n",
      " 10  Heart Rate               374 non-null    int64  \n",
      " 11  Daily Steps              374 non-null    int64  \n",
      " 12  Sleep Disorder           374 non-null    object \n",
      "dtypes: float64(1), int64(7), object(5)\n",
      "memory usage: 38.1+ KB\n"
     ]
    }
   ],
   "source": [
    "# All the columns information\n",
    "data.info()"
   ]
  },
  {
   "cell_type": "code",
   "execution_count": 5,
   "id": "b55b24d8",
   "metadata": {},
   "outputs": [
    {
     "data": {
      "text/plain": [
       "Index(['Person ID', 'Gender', 'Age', 'Occupation', 'Sleep Duration',\n",
       "       'Quality of Sleep', 'Physical Activity Level', 'Stress Level',\n",
       "       'BMI Category', 'Blood Pressure', 'Heart Rate', 'Daily Steps',\n",
       "       'Sleep Disorder'],\n",
       "      dtype='object')"
      ]
     },
     "execution_count": 5,
     "metadata": {},
     "output_type": "execute_result"
    }
   ],
   "source": [
    "data.columns"
   ]
  },
  {
   "cell_type": "code",
   "execution_count": 6,
   "id": "4bfb4b90",
   "metadata": {},
   "outputs": [],
   "source": [
    "# standardizing the columns \n",
    "columns = []\n",
    "# Convert all elements in the list to lowercase\n",
    "for column in data.columns:\n",
    "    column = column.lower().replace(\" \", \"_\")\n",
    "    columns.append(column)\n",
    "\n",
    "data.columns = columns\n",
    "\n",
    "data.set_index(\"person_id\", inplace = True)"
   ]
  },
  {
   "cell_type": "code",
   "execution_count": 7,
   "id": "5f27bfb3",
   "metadata": {},
   "outputs": [
    {
     "data": {
      "text/html": [
       "<div>\n",
       "<style scoped>\n",
       "    .dataframe tbody tr th:only-of-type {\n",
       "        vertical-align: middle;\n",
       "    }\n",
       "\n",
       "    .dataframe tbody tr th {\n",
       "        vertical-align: top;\n",
       "    }\n",
       "\n",
       "    .dataframe thead th {\n",
       "        text-align: right;\n",
       "    }\n",
       "</style>\n",
       "<table border=\"1\" class=\"dataframe\">\n",
       "  <thead>\n",
       "    <tr style=\"text-align: right;\">\n",
       "      <th></th>\n",
       "      <th>gender</th>\n",
       "      <th>age</th>\n",
       "      <th>occupation</th>\n",
       "      <th>sleep_duration</th>\n",
       "      <th>quality_of_sleep</th>\n",
       "      <th>physical_activity_level</th>\n",
       "      <th>stress_level</th>\n",
       "      <th>bmi_category</th>\n",
       "      <th>blood_pressure</th>\n",
       "      <th>heart_rate</th>\n",
       "      <th>daily_steps</th>\n",
       "      <th>sleep_disorder</th>\n",
       "    </tr>\n",
       "    <tr>\n",
       "      <th>person_id</th>\n",
       "      <th></th>\n",
       "      <th></th>\n",
       "      <th></th>\n",
       "      <th></th>\n",
       "      <th></th>\n",
       "      <th></th>\n",
       "      <th></th>\n",
       "      <th></th>\n",
       "      <th></th>\n",
       "      <th></th>\n",
       "      <th></th>\n",
       "      <th></th>\n",
       "    </tr>\n",
       "  </thead>\n",
       "  <tbody>\n",
       "    <tr>\n",
       "      <th>13</th>\n",
       "      <td>Male</td>\n",
       "      <td>29</td>\n",
       "      <td>Doctor</td>\n",
       "      <td>6.1</td>\n",
       "      <td>6</td>\n",
       "      <td>30</td>\n",
       "      <td>8</td>\n",
       "      <td>Normal</td>\n",
       "      <td>120/80</td>\n",
       "      <td>70</td>\n",
       "      <td>8000</td>\n",
       "      <td>None</td>\n",
       "    </tr>\n",
       "    <tr>\n",
       "      <th>120</th>\n",
       "      <td>Female</td>\n",
       "      <td>37</td>\n",
       "      <td>Accountant</td>\n",
       "      <td>7.2</td>\n",
       "      <td>8</td>\n",
       "      <td>60</td>\n",
       "      <td>4</td>\n",
       "      <td>Normal</td>\n",
       "      <td>115/75</td>\n",
       "      <td>68</td>\n",
       "      <td>7000</td>\n",
       "      <td>None</td>\n",
       "    </tr>\n",
       "    <tr>\n",
       "      <th>109</th>\n",
       "      <td>Male</td>\n",
       "      <td>37</td>\n",
       "      <td>Engineer</td>\n",
       "      <td>7.8</td>\n",
       "      <td>8</td>\n",
       "      <td>70</td>\n",
       "      <td>4</td>\n",
       "      <td>Normal Weight</td>\n",
       "      <td>120/80</td>\n",
       "      <td>68</td>\n",
       "      <td>7000</td>\n",
       "      <td>None</td>\n",
       "    </tr>\n",
       "    <tr>\n",
       "      <th>297</th>\n",
       "      <td>Female</td>\n",
       "      <td>50</td>\n",
       "      <td>Nurse</td>\n",
       "      <td>6.1</td>\n",
       "      <td>6</td>\n",
       "      <td>90</td>\n",
       "      <td>8</td>\n",
       "      <td>Overweight</td>\n",
       "      <td>140/95</td>\n",
       "      <td>75</td>\n",
       "      <td>10000</td>\n",
       "      <td>Sleep Apnea</td>\n",
       "    </tr>\n",
       "    <tr>\n",
       "      <th>63</th>\n",
       "      <td>Male</td>\n",
       "      <td>32</td>\n",
       "      <td>Doctor</td>\n",
       "      <td>6.2</td>\n",
       "      <td>6</td>\n",
       "      <td>30</td>\n",
       "      <td>8</td>\n",
       "      <td>Normal</td>\n",
       "      <td>125/80</td>\n",
       "      <td>72</td>\n",
       "      <td>5000</td>\n",
       "      <td>None</td>\n",
       "    </tr>\n",
       "    <tr>\n",
       "      <th>97</th>\n",
       "      <td>Female</td>\n",
       "      <td>36</td>\n",
       "      <td>Accountant</td>\n",
       "      <td>7.2</td>\n",
       "      <td>8</td>\n",
       "      <td>60</td>\n",
       "      <td>4</td>\n",
       "      <td>Normal</td>\n",
       "      <td>115/75</td>\n",
       "      <td>68</td>\n",
       "      <td>7000</td>\n",
       "      <td>None</td>\n",
       "    </tr>\n",
       "    <tr>\n",
       "      <th>260</th>\n",
       "      <td>Female</td>\n",
       "      <td>45</td>\n",
       "      <td>Teacher</td>\n",
       "      <td>6.6</td>\n",
       "      <td>7</td>\n",
       "      <td>45</td>\n",
       "      <td>4</td>\n",
       "      <td>Overweight</td>\n",
       "      <td>135/90</td>\n",
       "      <td>65</td>\n",
       "      <td>6000</td>\n",
       "      <td>Insomnia</td>\n",
       "    </tr>\n",
       "    <tr>\n",
       "      <th>351</th>\n",
       "      <td>Female</td>\n",
       "      <td>57</td>\n",
       "      <td>Nurse</td>\n",
       "      <td>8.1</td>\n",
       "      <td>9</td>\n",
       "      <td>75</td>\n",
       "      <td>3</td>\n",
       "      <td>Overweight</td>\n",
       "      <td>140/95</td>\n",
       "      <td>68</td>\n",
       "      <td>7000</td>\n",
       "      <td>Sleep Apnea</td>\n",
       "    </tr>\n",
       "    <tr>\n",
       "      <th>110</th>\n",
       "      <td>Male</td>\n",
       "      <td>37</td>\n",
       "      <td>Lawyer</td>\n",
       "      <td>7.4</td>\n",
       "      <td>8</td>\n",
       "      <td>60</td>\n",
       "      <td>5</td>\n",
       "      <td>Normal</td>\n",
       "      <td>130/85</td>\n",
       "      <td>68</td>\n",
       "      <td>8000</td>\n",
       "      <td>None</td>\n",
       "    </tr>\n",
       "    <tr>\n",
       "      <th>14</th>\n",
       "      <td>Male</td>\n",
       "      <td>29</td>\n",
       "      <td>Doctor</td>\n",
       "      <td>6.0</td>\n",
       "      <td>6</td>\n",
       "      <td>30</td>\n",
       "      <td>8</td>\n",
       "      <td>Normal</td>\n",
       "      <td>120/80</td>\n",
       "      <td>70</td>\n",
       "      <td>8000</td>\n",
       "      <td>None</td>\n",
       "    </tr>\n",
       "    <tr>\n",
       "      <th>179</th>\n",
       "      <td>Male</td>\n",
       "      <td>42</td>\n",
       "      <td>Lawyer</td>\n",
       "      <td>7.8</td>\n",
       "      <td>8</td>\n",
       "      <td>90</td>\n",
       "      <td>5</td>\n",
       "      <td>Normal</td>\n",
       "      <td>130/85</td>\n",
       "      <td>70</td>\n",
       "      <td>8000</td>\n",
       "      <td>None</td>\n",
       "    </tr>\n",
       "    <tr>\n",
       "      <th>147</th>\n",
       "      <td>Male</td>\n",
       "      <td>39</td>\n",
       "      <td>Lawyer</td>\n",
       "      <td>7.2</td>\n",
       "      <td>8</td>\n",
       "      <td>60</td>\n",
       "      <td>5</td>\n",
       "      <td>Normal</td>\n",
       "      <td>130/85</td>\n",
       "      <td>68</td>\n",
       "      <td>8000</td>\n",
       "      <td>Insomnia</td>\n",
       "    </tr>\n",
       "  </tbody>\n",
       "</table>\n",
       "</div>"
      ],
      "text/plain": [
       "           gender  age  occupation  sleep_duration  quality_of_sleep  \\\n",
       "person_id                                                              \n",
       "13           Male   29      Doctor             6.1                 6   \n",
       "120        Female   37  Accountant             7.2                 8   \n",
       "109          Male   37    Engineer             7.8                 8   \n",
       "297        Female   50       Nurse             6.1                 6   \n",
       "63           Male   32      Doctor             6.2                 6   \n",
       "97         Female   36  Accountant             7.2                 8   \n",
       "260        Female   45     Teacher             6.6                 7   \n",
       "351        Female   57       Nurse             8.1                 9   \n",
       "110          Male   37      Lawyer             7.4                 8   \n",
       "14           Male   29      Doctor             6.0                 6   \n",
       "179          Male   42      Lawyer             7.8                 8   \n",
       "147          Male   39      Lawyer             7.2                 8   \n",
       "\n",
       "           physical_activity_level  stress_level   bmi_category  \\\n",
       "person_id                                                         \n",
       "13                              30             8         Normal   \n",
       "120                             60             4         Normal   \n",
       "109                             70             4  Normal Weight   \n",
       "297                             90             8     Overweight   \n",
       "63                              30             8         Normal   \n",
       "97                              60             4         Normal   \n",
       "260                             45             4     Overweight   \n",
       "351                             75             3     Overweight   \n",
       "110                             60             5         Normal   \n",
       "14                              30             8         Normal   \n",
       "179                             90             5         Normal   \n",
       "147                             60             5         Normal   \n",
       "\n",
       "          blood_pressure  heart_rate  daily_steps sleep_disorder  \n",
       "person_id                                                         \n",
       "13                120/80          70         8000           None  \n",
       "120               115/75          68         7000           None  \n",
       "109               120/80          68         7000           None  \n",
       "297               140/95          75        10000    Sleep Apnea  \n",
       "63                125/80          72         5000           None  \n",
       "97                115/75          68         7000           None  \n",
       "260               135/90          65         6000       Insomnia  \n",
       "351               140/95          68         7000    Sleep Apnea  \n",
       "110               130/85          68         8000           None  \n",
       "14                120/80          70         8000           None  \n",
       "179               130/85          70         8000           None  \n",
       "147               130/85          68         8000       Insomnia  "
      ]
     },
     "execution_count": 7,
     "metadata": {},
     "output_type": "execute_result"
    }
   ],
   "source": [
    "data.sample(12)"
   ]
  },
  {
   "cell_type": "code",
   "execution_count": 8,
   "id": "bd7ad607",
   "metadata": {},
   "outputs": [],
   "source": [
    "# creating a new column of systole and dystole, and appending the level of the blood pressure to the blood pressure column\n",
    "# Split the original blood presssure column and convert the values to integers\n",
    "data[['systolic_pressure', 'distolic_pressure']] = data['blood_pressure'].str.split('/').apply(lambda x: pd.Series([int(x[0]), int(x[1])]))\n"
   ]
  },
  {
   "cell_type": "code",
   "execution_count": 9,
   "id": "4662f59b",
   "metadata": {},
   "outputs": [],
   "source": [
    "# Create a new column for blood pressure level with default values\n",
    "data['blood_pressure_level'] = \"\"\n",
    "\n",
    "# Update the blood pressure level based on conditions\n",
    "for index, row in data.iterrows():\n",
    "    if row['systolic_pressure'] < 90 and row['distolic_pressure'] < 60:\n",
    "        data.at[index, 'blood_pressure_level'] = \"Low\"\n",
    "    elif 90 <= row['systolic_pressure'] < 120 and row['distolic_pressure'] < 80:\n",
    "        data.at[index, 'blood_pressure_level'] = \"Ideal\"\n",
    "    elif 120 <= row['systolic_pressure'] <= 129 and row['distolic_pressure'] < 80:\n",
    "        data.at[index, 'blood_pressure_level'] = \"Elevated\"\n",
    "    elif 130 <= row['systolic_pressure'] <= 139 or 80 <= row['distolic_pressure'] <= 89:\n",
    "        data.at[index, 'blood_pressure_level'] = \"Hypertension_1\"\n",
    "    elif row['systolic_pressure'] >= 140 or row['distolic_pressure'] >= 90:\n",
    "        data.at[index, 'blood_pressure_level'] = \"Hypertension_2\"\n",
    "    else:\n",
    "        data.at[index, 'blood_pressure_level'] = \"Hypertensive_Crisis\"\n"
   ]
  },
  {
   "cell_type": "code",
   "execution_count": 10,
   "id": "2c829230",
   "metadata": {},
   "outputs": [
    {
     "data": {
      "text/plain": [
       "Hypertension_1    261\n",
       "Hypertension_2     71\n",
       "Ideal              41\n",
       "Elevated            1\n",
       "Name: blood_pressure_level, dtype: int64"
      ]
     },
     "execution_count": 10,
     "metadata": {},
     "output_type": "execute_result"
    }
   ],
   "source": [
    "data.blood_pressure_level.value_counts()"
   ]
  },
  {
   "cell_type": "code",
   "execution_count": 11,
   "id": "fdec49ce",
   "metadata": {},
   "outputs": [
    {
     "data": {
      "text/html": [
       "<div>\n",
       "<style scoped>\n",
       "    .dataframe tbody tr th:only-of-type {\n",
       "        vertical-align: middle;\n",
       "    }\n",
       "\n",
       "    .dataframe tbody tr th {\n",
       "        vertical-align: top;\n",
       "    }\n",
       "\n",
       "    .dataframe thead th {\n",
       "        text-align: right;\n",
       "    }\n",
       "</style>\n",
       "<table border=\"1\" class=\"dataframe\">\n",
       "  <thead>\n",
       "    <tr style=\"text-align: right;\">\n",
       "      <th></th>\n",
       "      <th>gender</th>\n",
       "      <th>age</th>\n",
       "      <th>occupation</th>\n",
       "      <th>sleep_duration</th>\n",
       "      <th>quality_of_sleep</th>\n",
       "      <th>physical_activity_level</th>\n",
       "      <th>stress_level</th>\n",
       "      <th>bmi_category</th>\n",
       "      <th>blood_pressure</th>\n",
       "      <th>heart_rate</th>\n",
       "      <th>daily_steps</th>\n",
       "      <th>sleep_disorder</th>\n",
       "      <th>systolic_pressure</th>\n",
       "      <th>distolic_pressure</th>\n",
       "      <th>blood_pressure_level</th>\n",
       "    </tr>\n",
       "    <tr>\n",
       "      <th>person_id</th>\n",
       "      <th></th>\n",
       "      <th></th>\n",
       "      <th></th>\n",
       "      <th></th>\n",
       "      <th></th>\n",
       "      <th></th>\n",
       "      <th></th>\n",
       "      <th></th>\n",
       "      <th></th>\n",
       "      <th></th>\n",
       "      <th></th>\n",
       "      <th></th>\n",
       "      <th></th>\n",
       "      <th></th>\n",
       "      <th></th>\n",
       "    </tr>\n",
       "  </thead>\n",
       "  <tbody>\n",
       "    <tr>\n",
       "      <th>167</th>\n",
       "      <td>Male</td>\n",
       "      <td>41</td>\n",
       "      <td>Engineer</td>\n",
       "      <td>7.3</td>\n",
       "      <td>8</td>\n",
       "      <td>70</td>\n",
       "      <td>6</td>\n",
       "      <td>Normal Weight</td>\n",
       "      <td>121/79</td>\n",
       "      <td>72</td>\n",
       "      <td>6200</td>\n",
       "      <td>None</td>\n",
       "      <td>121</td>\n",
       "      <td>79</td>\n",
       "      <td>Elevated</td>\n",
       "    </tr>\n",
       "  </tbody>\n",
       "</table>\n",
       "</div>"
      ],
      "text/plain": [
       "          gender  age occupation  sleep_duration  quality_of_sleep  \\\n",
       "person_id                                                            \n",
       "167         Male   41   Engineer             7.3                 8   \n",
       "\n",
       "           physical_activity_level  stress_level   bmi_category  \\\n",
       "person_id                                                         \n",
       "167                             70             6  Normal Weight   \n",
       "\n",
       "          blood_pressure  heart_rate  daily_steps sleep_disorder  \\\n",
       "person_id                                                          \n",
       "167               121/79          72         6200           None   \n",
       "\n",
       "           systolic_pressure  distolic_pressure blood_pressure_level  \n",
       "person_id                                                             \n",
       "167                      121                 79             Elevated  "
      ]
     },
     "execution_count": 11,
     "metadata": {},
     "output_type": "execute_result"
    }
   ],
   "source": [
    "data[data.blood_pressure_level == \"Elevated\"]"
   ]
  },
  {
   "cell_type": "code",
   "execution_count": 12,
   "id": "15f1f4ad",
   "metadata": {},
   "outputs": [
    {
     "data": {
      "text/plain": [
       "Index(['gender', 'age', 'occupation', 'sleep_duration', 'quality_of_sleep',\n",
       "       'physical_activity_level', 'stress_level', 'bmi_category',\n",
       "       'blood_pressure', 'heart_rate', 'daily_steps', 'sleep_disorder',\n",
       "       'systolic_pressure', 'distolic_pressure', 'blood_pressure_level'],\n",
       "      dtype='object')"
      ]
     },
     "execution_count": 12,
     "metadata": {},
     "output_type": "execute_result"
    }
   ],
   "source": [
    "data.columns"
   ]
  },
  {
   "cell_type": "code",
   "execution_count": 13,
   "id": "953217c9",
   "metadata": {},
   "outputs": [],
   "source": [
    "columns = ['gender', 'age', 'occupation', 'sleep_duration', 'quality_of_sleep',\n",
    "       'physical_activity_level', 'stress_level','systolic_pressure', 'distolic_pressure',\n",
    "       'blood_pressure_level', 'bmi_category', 'heart_rate', 'daily_steps', 'sleep_disorder', \"blood_pressure\"]\n",
    "data = data[columns]"
   ]
  },
  {
   "cell_type": "code",
   "execution_count": 14,
   "id": "bed198d4",
   "metadata": {},
   "outputs": [],
   "source": [
    "data.drop(\"blood_pressure\", axis = 1, inplace = True)"
   ]
  },
  {
   "cell_type": "code",
   "execution_count": 15,
   "id": "c0ca54f9",
   "metadata": {},
   "outputs": [
    {
     "data": {
      "text/html": [
       "<div>\n",
       "<style scoped>\n",
       "    .dataframe tbody tr th:only-of-type {\n",
       "        vertical-align: middle;\n",
       "    }\n",
       "\n",
       "    .dataframe tbody tr th {\n",
       "        vertical-align: top;\n",
       "    }\n",
       "\n",
       "    .dataframe thead th {\n",
       "        text-align: right;\n",
       "    }\n",
       "</style>\n",
       "<table border=\"1\" class=\"dataframe\">\n",
       "  <thead>\n",
       "    <tr style=\"text-align: right;\">\n",
       "      <th></th>\n",
       "      <th>gender</th>\n",
       "      <th>age</th>\n",
       "      <th>occupation</th>\n",
       "      <th>sleep_duration</th>\n",
       "      <th>quality_of_sleep</th>\n",
       "      <th>physical_activity_level</th>\n",
       "      <th>stress_level</th>\n",
       "      <th>systolic_pressure</th>\n",
       "      <th>distolic_pressure</th>\n",
       "      <th>blood_pressure_level</th>\n",
       "      <th>bmi_category</th>\n",
       "      <th>heart_rate</th>\n",
       "      <th>daily_steps</th>\n",
       "      <th>sleep_disorder</th>\n",
       "    </tr>\n",
       "    <tr>\n",
       "      <th>person_id</th>\n",
       "      <th></th>\n",
       "      <th></th>\n",
       "      <th></th>\n",
       "      <th></th>\n",
       "      <th></th>\n",
       "      <th></th>\n",
       "      <th></th>\n",
       "      <th></th>\n",
       "      <th></th>\n",
       "      <th></th>\n",
       "      <th></th>\n",
       "      <th></th>\n",
       "      <th></th>\n",
       "      <th></th>\n",
       "    </tr>\n",
       "  </thead>\n",
       "  <tbody>\n",
       "    <tr>\n",
       "      <th>80</th>\n",
       "      <td>Male</td>\n",
       "      <td>33</td>\n",
       "      <td>Doctor</td>\n",
       "      <td>6.0</td>\n",
       "      <td>6</td>\n",
       "      <td>30</td>\n",
       "      <td>8</td>\n",
       "      <td>125</td>\n",
       "      <td>80</td>\n",
       "      <td>Hypertension_1</td>\n",
       "      <td>Normal</td>\n",
       "      <td>72</td>\n",
       "      <td>5000</td>\n",
       "      <td>None</td>\n",
       "    </tr>\n",
       "    <tr>\n",
       "      <th>160</th>\n",
       "      <td>Male</td>\n",
       "      <td>39</td>\n",
       "      <td>Lawyer</td>\n",
       "      <td>7.2</td>\n",
       "      <td>8</td>\n",
       "      <td>60</td>\n",
       "      <td>5</td>\n",
       "      <td>130</td>\n",
       "      <td>85</td>\n",
       "      <td>Hypertension_1</td>\n",
       "      <td>Normal</td>\n",
       "      <td>68</td>\n",
       "      <td>8000</td>\n",
       "      <td>None</td>\n",
       "    </tr>\n",
       "    <tr>\n",
       "      <th>144</th>\n",
       "      <td>Female</td>\n",
       "      <td>38</td>\n",
       "      <td>Accountant</td>\n",
       "      <td>7.1</td>\n",
       "      <td>8</td>\n",
       "      <td>60</td>\n",
       "      <td>4</td>\n",
       "      <td>115</td>\n",
       "      <td>75</td>\n",
       "      <td>Ideal</td>\n",
       "      <td>Normal</td>\n",
       "      <td>68</td>\n",
       "      <td>7000</td>\n",
       "      <td>None</td>\n",
       "    </tr>\n",
       "    <tr>\n",
       "      <th>27</th>\n",
       "      <td>Male</td>\n",
       "      <td>30</td>\n",
       "      <td>Doctor</td>\n",
       "      <td>7.8</td>\n",
       "      <td>7</td>\n",
       "      <td>75</td>\n",
       "      <td>6</td>\n",
       "      <td>120</td>\n",
       "      <td>80</td>\n",
       "      <td>Hypertension_1</td>\n",
       "      <td>Normal</td>\n",
       "      <td>70</td>\n",
       "      <td>8000</td>\n",
       "      <td>None</td>\n",
       "    </tr>\n",
       "    <tr>\n",
       "      <th>291</th>\n",
       "      <td>Female</td>\n",
       "      <td>50</td>\n",
       "      <td>Nurse</td>\n",
       "      <td>6.0</td>\n",
       "      <td>6</td>\n",
       "      <td>90</td>\n",
       "      <td>8</td>\n",
       "      <td>140</td>\n",
       "      <td>95</td>\n",
       "      <td>Hypertension_2</td>\n",
       "      <td>Overweight</td>\n",
       "      <td>75</td>\n",
       "      <td>10000</td>\n",
       "      <td>Sleep Apnea</td>\n",
       "    </tr>\n",
       "    <tr>\n",
       "      <th>252</th>\n",
       "      <td>Female</td>\n",
       "      <td>45</td>\n",
       "      <td>Teacher</td>\n",
       "      <td>6.8</td>\n",
       "      <td>7</td>\n",
       "      <td>30</td>\n",
       "      <td>6</td>\n",
       "      <td>135</td>\n",
       "      <td>90</td>\n",
       "      <td>Hypertension_1</td>\n",
       "      <td>Overweight</td>\n",
       "      <td>65</td>\n",
       "      <td>6000</td>\n",
       "      <td>Insomnia</td>\n",
       "    </tr>\n",
       "  </tbody>\n",
       "</table>\n",
       "</div>"
      ],
      "text/plain": [
       "           gender  age  occupation  sleep_duration  quality_of_sleep  \\\n",
       "person_id                                                              \n",
       "80           Male   33      Doctor             6.0                 6   \n",
       "160          Male   39      Lawyer             7.2                 8   \n",
       "144        Female   38  Accountant             7.1                 8   \n",
       "27           Male   30      Doctor             7.8                 7   \n",
       "291        Female   50       Nurse             6.0                 6   \n",
       "252        Female   45     Teacher             6.8                 7   \n",
       "\n",
       "           physical_activity_level  stress_level  systolic_pressure  \\\n",
       "person_id                                                             \n",
       "80                              30             8                125   \n",
       "160                             60             5                130   \n",
       "144                             60             4                115   \n",
       "27                              75             6                120   \n",
       "291                             90             8                140   \n",
       "252                             30             6                135   \n",
       "\n",
       "           distolic_pressure blood_pressure_level bmi_category  heart_rate  \\\n",
       "person_id                                                                    \n",
       "80                        80       Hypertension_1       Normal          72   \n",
       "160                       85       Hypertension_1       Normal          68   \n",
       "144                       75                Ideal       Normal          68   \n",
       "27                        80       Hypertension_1       Normal          70   \n",
       "291                       95       Hypertension_2   Overweight          75   \n",
       "252                       90       Hypertension_1   Overweight          65   \n",
       "\n",
       "           daily_steps sleep_disorder  \n",
       "person_id                              \n",
       "80                5000           None  \n",
       "160               8000           None  \n",
       "144               7000           None  \n",
       "27                8000           None  \n",
       "291              10000    Sleep Apnea  \n",
       "252               6000       Insomnia  "
      ]
     },
     "execution_count": 15,
     "metadata": {},
     "output_type": "execute_result"
    }
   ],
   "source": [
    "data.sample(6)"
   ]
  },
  {
   "cell_type": "code",
   "execution_count": 16,
   "id": "a75cdfdc",
   "metadata": {},
   "outputs": [
    {
     "name": "stdout",
     "output_type": "stream",
     "text": [
      "************************************************\n",
      "The Unique values of gender column are:\n",
      "['Male' 'Female']\n",
      "==============================================\n",
      "The value counts for the gender column is :\n",
      "Male      189\n",
      "Female    185\n",
      "Name: gender, dtype: int64\n",
      "***********************************************\n",
      "************************************************\n",
      "The Unique values of occupation column are:\n",
      "['Software Engineer' 'Doctor' 'Sales Representative' 'Teacher' 'Nurse'\n",
      " 'Engineer' 'Accountant' 'Scientist' 'Lawyer' 'Salesperson' 'Manager']\n",
      "==============================================\n",
      "The value counts for the occupation column is :\n",
      "Nurse                   73\n",
      "Doctor                  71\n",
      "Engineer                63\n",
      "Lawyer                  47\n",
      "Teacher                 40\n",
      "Accountant              37\n",
      "Salesperson             32\n",
      "Scientist                4\n",
      "Software Engineer        4\n",
      "Sales Representative     2\n",
      "Manager                  1\n",
      "Name: occupation, dtype: int64\n",
      "***********************************************\n",
      "************************************************\n",
      "The Unique values of blood_pressure_level column are:\n",
      "['Hypertension_1' 'Hypertension_2' 'Ideal' 'Elevated']\n",
      "==============================================\n",
      "The value counts for the blood_pressure_level column is :\n",
      "Hypertension_1    261\n",
      "Hypertension_2     71\n",
      "Ideal              41\n",
      "Elevated            1\n",
      "Name: blood_pressure_level, dtype: int64\n",
      "***********************************************\n",
      "************************************************\n",
      "The Unique values of bmi_category column are:\n",
      "['Overweight' 'Normal' 'Obese' 'Normal Weight']\n",
      "==============================================\n",
      "The value counts for the bmi_category column is :\n",
      "Normal           195\n",
      "Overweight       148\n",
      "Normal Weight     21\n",
      "Obese             10\n",
      "Name: bmi_category, dtype: int64\n",
      "***********************************************\n",
      "************************************************\n",
      "The Unique values of sleep_disorder column are:\n",
      "['None' 'Sleep Apnea' 'Insomnia']\n",
      "==============================================\n",
      "The value counts for the sleep_disorder column is :\n",
      "None           219\n",
      "Sleep Apnea     78\n",
      "Insomnia        77\n",
      "Name: sleep_disorder, dtype: int64\n",
      "***********************************************\n"
     ]
    }
   ],
   "source": [
    "for column in data.select_dtypes(include=['object']).columns:\n",
    "    print(\"************************************************\")\n",
    "    print(f\"The Unique values of {column} column are:\")\n",
    "    print(data[column].unique())\n",
    "    print(\"==============================================\")\n",
    "    print(f\"The value counts for the {column} column is :\")\n",
    "    print(data[column].value_counts())\n",
    "    print(\"***********************************************\")"
   ]
  },
  {
   "cell_type": "code",
   "execution_count": 17,
   "id": "f1868f26",
   "metadata": {},
   "outputs": [
    {
     "data": {
      "text/plain": [
       "gender                     0.0\n",
       "age                        0.0\n",
       "occupation                 0.0\n",
       "sleep_duration             0.0\n",
       "quality_of_sleep           0.0\n",
       "physical_activity_level    0.0\n",
       "stress_level               0.0\n",
       "systolic_pressure          0.0\n",
       "distolic_pressure          0.0\n",
       "blood_pressure_level       0.0\n",
       "bmi_category               0.0\n",
       "heart_rate                 0.0\n",
       "daily_steps                0.0\n",
       "sleep_disorder             0.0\n",
       "dtype: float64"
      ]
     },
     "execution_count": 17,
     "metadata": {},
     "output_type": "execute_result"
    }
   ],
   "source": [
    "#Checking the Null values\n",
    "data.isna().sum()/len(data.shape)*100"
   ]
  },
  {
   "cell_type": "code",
   "execution_count": 18,
   "id": "88c9788e",
   "metadata": {},
   "outputs": [
    {
     "data": {
      "text/plain": [
       "242"
      ]
     },
     "execution_count": 18,
     "metadata": {},
     "output_type": "execute_result"
    }
   ],
   "source": [
    "# checking for duplicated observations\n",
    "data.duplicated().sum()"
   ]
  },
  {
   "cell_type": "code",
   "execution_count": 19,
   "id": "fdfcb35e",
   "metadata": {},
   "outputs": [
    {
     "data": {
      "text/html": [
       "<div>\n",
       "<style scoped>\n",
       "    .dataframe tbody tr th:only-of-type {\n",
       "        vertical-align: middle;\n",
       "    }\n",
       "\n",
       "    .dataframe tbody tr th {\n",
       "        vertical-align: top;\n",
       "    }\n",
       "\n",
       "    .dataframe thead th {\n",
       "        text-align: right;\n",
       "    }\n",
       "</style>\n",
       "<table border=\"1\" class=\"dataframe\">\n",
       "  <thead>\n",
       "    <tr style=\"text-align: right;\">\n",
       "      <th></th>\n",
       "      <th>gender</th>\n",
       "      <th>age</th>\n",
       "      <th>occupation</th>\n",
       "      <th>sleep_duration</th>\n",
       "      <th>quality_of_sleep</th>\n",
       "      <th>physical_activity_level</th>\n",
       "      <th>stress_level</th>\n",
       "      <th>systolic_pressure</th>\n",
       "      <th>distolic_pressure</th>\n",
       "      <th>blood_pressure_level</th>\n",
       "      <th>bmi_category</th>\n",
       "      <th>heart_rate</th>\n",
       "      <th>daily_steps</th>\n",
       "      <th>sleep_disorder</th>\n",
       "    </tr>\n",
       "    <tr>\n",
       "      <th>person_id</th>\n",
       "      <th></th>\n",
       "      <th></th>\n",
       "      <th></th>\n",
       "      <th></th>\n",
       "      <th></th>\n",
       "      <th></th>\n",
       "      <th></th>\n",
       "      <th></th>\n",
       "      <th></th>\n",
       "      <th></th>\n",
       "      <th></th>\n",
       "      <th></th>\n",
       "      <th></th>\n",
       "      <th></th>\n",
       "    </tr>\n",
       "  </thead>\n",
       "  <tbody>\n",
       "    <tr>\n",
       "      <th>3</th>\n",
       "      <td>Male</td>\n",
       "      <td>28</td>\n",
       "      <td>Doctor</td>\n",
       "      <td>6.2</td>\n",
       "      <td>6</td>\n",
       "      <td>60</td>\n",
       "      <td>8</td>\n",
       "      <td>125</td>\n",
       "      <td>80</td>\n",
       "      <td>Hypertension_1</td>\n",
       "      <td>Normal</td>\n",
       "      <td>75</td>\n",
       "      <td>10000</td>\n",
       "      <td>None</td>\n",
       "    </tr>\n",
       "    <tr>\n",
       "      <th>5</th>\n",
       "      <td>Male</td>\n",
       "      <td>28</td>\n",
       "      <td>Sales Representative</td>\n",
       "      <td>5.9</td>\n",
       "      <td>4</td>\n",
       "      <td>30</td>\n",
       "      <td>8</td>\n",
       "      <td>140</td>\n",
       "      <td>90</td>\n",
       "      <td>Hypertension_2</td>\n",
       "      <td>Obese</td>\n",
       "      <td>85</td>\n",
       "      <td>3000</td>\n",
       "      <td>Sleep Apnea</td>\n",
       "    </tr>\n",
       "    <tr>\n",
       "      <th>9</th>\n",
       "      <td>Male</td>\n",
       "      <td>29</td>\n",
       "      <td>Doctor</td>\n",
       "      <td>7.8</td>\n",
       "      <td>7</td>\n",
       "      <td>75</td>\n",
       "      <td>6</td>\n",
       "      <td>120</td>\n",
       "      <td>80</td>\n",
       "      <td>Hypertension_1</td>\n",
       "      <td>Normal</td>\n",
       "      <td>70</td>\n",
       "      <td>8000</td>\n",
       "      <td>None</td>\n",
       "    </tr>\n",
       "    <tr>\n",
       "      <th>10</th>\n",
       "      <td>Male</td>\n",
       "      <td>29</td>\n",
       "      <td>Doctor</td>\n",
       "      <td>7.8</td>\n",
       "      <td>7</td>\n",
       "      <td>75</td>\n",
       "      <td>6</td>\n",
       "      <td>120</td>\n",
       "      <td>80</td>\n",
       "      <td>Hypertension_1</td>\n",
       "      <td>Normal</td>\n",
       "      <td>70</td>\n",
       "      <td>8000</td>\n",
       "      <td>None</td>\n",
       "    </tr>\n",
       "    <tr>\n",
       "      <th>12</th>\n",
       "      <td>Male</td>\n",
       "      <td>29</td>\n",
       "      <td>Doctor</td>\n",
       "      <td>7.8</td>\n",
       "      <td>7</td>\n",
       "      <td>75</td>\n",
       "      <td>6</td>\n",
       "      <td>120</td>\n",
       "      <td>80</td>\n",
       "      <td>Hypertension_1</td>\n",
       "      <td>Normal</td>\n",
       "      <td>70</td>\n",
       "      <td>8000</td>\n",
       "      <td>None</td>\n",
       "    </tr>\n",
       "    <tr>\n",
       "      <th>...</th>\n",
       "      <td>...</td>\n",
       "      <td>...</td>\n",
       "      <td>...</td>\n",
       "      <td>...</td>\n",
       "      <td>...</td>\n",
       "      <td>...</td>\n",
       "      <td>...</td>\n",
       "      <td>...</td>\n",
       "      <td>...</td>\n",
       "      <td>...</td>\n",
       "      <td>...</td>\n",
       "      <td>...</td>\n",
       "      <td>...</td>\n",
       "      <td>...</td>\n",
       "    </tr>\n",
       "    <tr>\n",
       "      <th>370</th>\n",
       "      <td>Female</td>\n",
       "      <td>59</td>\n",
       "      <td>Nurse</td>\n",
       "      <td>8.1</td>\n",
       "      <td>9</td>\n",
       "      <td>75</td>\n",
       "      <td>3</td>\n",
       "      <td>140</td>\n",
       "      <td>95</td>\n",
       "      <td>Hypertension_2</td>\n",
       "      <td>Overweight</td>\n",
       "      <td>68</td>\n",
       "      <td>7000</td>\n",
       "      <td>Sleep Apnea</td>\n",
       "    </tr>\n",
       "    <tr>\n",
       "      <th>371</th>\n",
       "      <td>Female</td>\n",
       "      <td>59</td>\n",
       "      <td>Nurse</td>\n",
       "      <td>8.0</td>\n",
       "      <td>9</td>\n",
       "      <td>75</td>\n",
       "      <td>3</td>\n",
       "      <td>140</td>\n",
       "      <td>95</td>\n",
       "      <td>Hypertension_2</td>\n",
       "      <td>Overweight</td>\n",
       "      <td>68</td>\n",
       "      <td>7000</td>\n",
       "      <td>Sleep Apnea</td>\n",
       "    </tr>\n",
       "    <tr>\n",
       "      <th>372</th>\n",
       "      <td>Female</td>\n",
       "      <td>59</td>\n",
       "      <td>Nurse</td>\n",
       "      <td>8.1</td>\n",
       "      <td>9</td>\n",
       "      <td>75</td>\n",
       "      <td>3</td>\n",
       "      <td>140</td>\n",
       "      <td>95</td>\n",
       "      <td>Hypertension_2</td>\n",
       "      <td>Overweight</td>\n",
       "      <td>68</td>\n",
       "      <td>7000</td>\n",
       "      <td>Sleep Apnea</td>\n",
       "    </tr>\n",
       "    <tr>\n",
       "      <th>373</th>\n",
       "      <td>Female</td>\n",
       "      <td>59</td>\n",
       "      <td>Nurse</td>\n",
       "      <td>8.1</td>\n",
       "      <td>9</td>\n",
       "      <td>75</td>\n",
       "      <td>3</td>\n",
       "      <td>140</td>\n",
       "      <td>95</td>\n",
       "      <td>Hypertension_2</td>\n",
       "      <td>Overweight</td>\n",
       "      <td>68</td>\n",
       "      <td>7000</td>\n",
       "      <td>Sleep Apnea</td>\n",
       "    </tr>\n",
       "    <tr>\n",
       "      <th>374</th>\n",
       "      <td>Female</td>\n",
       "      <td>59</td>\n",
       "      <td>Nurse</td>\n",
       "      <td>8.1</td>\n",
       "      <td>9</td>\n",
       "      <td>75</td>\n",
       "      <td>3</td>\n",
       "      <td>140</td>\n",
       "      <td>95</td>\n",
       "      <td>Hypertension_2</td>\n",
       "      <td>Overweight</td>\n",
       "      <td>68</td>\n",
       "      <td>7000</td>\n",
       "      <td>Sleep Apnea</td>\n",
       "    </tr>\n",
       "  </tbody>\n",
       "</table>\n",
       "<p>242 rows × 14 columns</p>\n",
       "</div>"
      ],
      "text/plain": [
       "           gender  age            occupation  sleep_duration  \\\n",
       "person_id                                                      \n",
       "3            Male   28                Doctor             6.2   \n",
       "5            Male   28  Sales Representative             5.9   \n",
       "9            Male   29                Doctor             7.8   \n",
       "10           Male   29                Doctor             7.8   \n",
       "12           Male   29                Doctor             7.8   \n",
       "...           ...  ...                   ...             ...   \n",
       "370        Female   59                 Nurse             8.1   \n",
       "371        Female   59                 Nurse             8.0   \n",
       "372        Female   59                 Nurse             8.1   \n",
       "373        Female   59                 Nurse             8.1   \n",
       "374        Female   59                 Nurse             8.1   \n",
       "\n",
       "           quality_of_sleep  physical_activity_level  stress_level  \\\n",
       "person_id                                                            \n",
       "3                         6                       60             8   \n",
       "5                         4                       30             8   \n",
       "9                         7                       75             6   \n",
       "10                        7                       75             6   \n",
       "12                        7                       75             6   \n",
       "...                     ...                      ...           ...   \n",
       "370                       9                       75             3   \n",
       "371                       9                       75             3   \n",
       "372                       9                       75             3   \n",
       "373                       9                       75             3   \n",
       "374                       9                       75             3   \n",
       "\n",
       "           systolic_pressure  distolic_pressure blood_pressure_level  \\\n",
       "person_id                                                              \n",
       "3                        125                 80       Hypertension_1   \n",
       "5                        140                 90       Hypertension_2   \n",
       "9                        120                 80       Hypertension_1   \n",
       "10                       120                 80       Hypertension_1   \n",
       "12                       120                 80       Hypertension_1   \n",
       "...                      ...                ...                  ...   \n",
       "370                      140                 95       Hypertension_2   \n",
       "371                      140                 95       Hypertension_2   \n",
       "372                      140                 95       Hypertension_2   \n",
       "373                      140                 95       Hypertension_2   \n",
       "374                      140                 95       Hypertension_2   \n",
       "\n",
       "          bmi_category  heart_rate  daily_steps sleep_disorder  \n",
       "person_id                                                       \n",
       "3               Normal          75        10000           None  \n",
       "5                Obese          85         3000    Sleep Apnea  \n",
       "9               Normal          70         8000           None  \n",
       "10              Normal          70         8000           None  \n",
       "12              Normal          70         8000           None  \n",
       "...                ...         ...          ...            ...  \n",
       "370         Overweight          68         7000    Sleep Apnea  \n",
       "371         Overweight          68         7000    Sleep Apnea  \n",
       "372         Overweight          68         7000    Sleep Apnea  \n",
       "373         Overweight          68         7000    Sleep Apnea  \n",
       "374         Overweight          68         7000    Sleep Apnea  \n",
       "\n",
       "[242 rows x 14 columns]"
      ]
     },
     "execution_count": 19,
     "metadata": {},
     "output_type": "execute_result"
    }
   ],
   "source": [
    "duplicates = data[data.duplicated()]\n",
    "\n",
    "duplicates"
   ]
  },
  {
   "cell_type": "code",
   "execution_count": 20,
   "id": "943a0d52",
   "metadata": {},
   "outputs": [],
   "source": [
    "# droping the duplicates data from the whole data\n",
    "data.drop_duplicates(inplace=True)"
   ]
  },
  {
   "cell_type": "code",
   "execution_count": 21,
   "id": "f411bca1",
   "metadata": {},
   "outputs": [
    {
     "data": {
      "text/plain": [
       "0"
      ]
     },
     "execution_count": 21,
     "metadata": {},
     "output_type": "execute_result"
    }
   ],
   "source": [
    "# reviewing the result of the duplicates operation above\n",
    "data.duplicated().sum()"
   ]
  },
  {
   "cell_type": "code",
   "execution_count": 22,
   "id": "e6b67a78",
   "metadata": {},
   "outputs": [
    {
     "name": "stdout",
     "output_type": "stream",
     "text": [
      "<class 'pandas.core.frame.DataFrame'>\n",
      "Int64Index: 132 entries, 1 to 367\n",
      "Data columns (total 14 columns):\n",
      " #   Column                   Non-Null Count  Dtype  \n",
      "---  ------                   --------------  -----  \n",
      " 0   gender                   132 non-null    object \n",
      " 1   age                      132 non-null    int64  \n",
      " 2   occupation               132 non-null    object \n",
      " 3   sleep_duration           132 non-null    float64\n",
      " 4   quality_of_sleep         132 non-null    int64  \n",
      " 5   physical_activity_level  132 non-null    int64  \n",
      " 6   stress_level             132 non-null    int64  \n",
      " 7   systolic_pressure        132 non-null    int64  \n",
      " 8   distolic_pressure        132 non-null    int64  \n",
      " 9   blood_pressure_level     132 non-null    object \n",
      " 10  bmi_category             132 non-null    object \n",
      " 11  heart_rate               132 non-null    int64  \n",
      " 12  daily_steps              132 non-null    int64  \n",
      " 13  sleep_disorder           132 non-null    object \n",
      "dtypes: float64(1), int64(8), object(5)\n",
      "memory usage: 15.5+ KB\n"
     ]
    }
   ],
   "source": [
    "# getting a summary of the data\n",
    "data.info()"
   ]
  },
  {
   "cell_type": "code",
   "execution_count": 23,
   "id": "07b124f1",
   "metadata": {},
   "outputs": [
    {
     "data": {
      "text/html": [
       "<style  type=\"text/css\" >\n",
       "#T_604cc_row0_col0,#T_604cc_row0_col1,#T_604cc_row0_col2,#T_604cc_row0_col3,#T_604cc_row0_col4,#T_604cc_row0_col6,#T_604cc_row0_col7,#T_604cc_row7_col5,#T_604cc_row7_col8{\n",
       "            background-color:  #cccccc;\n",
       "            color:  #000000;\n",
       "        }#T_604cc_row0_col5{\n",
       "            background-color:  #d40000;\n",
       "            color:  #f1f1f1;\n",
       "        }#T_604cc_row0_col8,#T_604cc_row2_col0,#T_604cc_row2_col1,#T_604cc_row2_col2,#T_604cc_row2_col3,#T_604cc_row2_col4,#T_604cc_row2_col5,#T_604cc_row2_col6,#T_604cc_row2_col7{\n",
       "            background-color:  #000000;\n",
       "            color:  #f1f1f1;\n",
       "        }#T_604cc_row1_col0{\n",
       "            background-color:  #0080dd;\n",
       "            color:  #000000;\n",
       "        }#T_604cc_row1_col1,#T_604cc_row5_col1,#T_604cc_row7_col4{\n",
       "            background-color:  #700080;\n",
       "            color:  #f1f1f1;\n",
       "        }#T_604cc_row1_col2,#T_604cc_row5_col2{\n",
       "            background-color:  #670075;\n",
       "            color:  #f1f1f1;\n",
       "        }#T_604cc_row1_col3{\n",
       "            background-color:  #00a7b3;\n",
       "            color:  #000000;\n",
       "        }#T_604cc_row1_col4{\n",
       "            background-color:  #41004b;\n",
       "            color:  #f1f1f1;\n",
       "        }#T_604cc_row1_col5{\n",
       "            background-color:  #de0000;\n",
       "            color:  #f1f1f1;\n",
       "        }#T_604cc_row1_col6,#T_604cc_row7_col3{\n",
       "            background-color:  #58ff00;\n",
       "            color:  #000000;\n",
       "        }#T_604cc_row1_col7{\n",
       "            background-color:  #00ca00;\n",
       "            color:  #000000;\n",
       "        }#T_604cc_row1_col8{\n",
       "            background-color:  #c4fc00;\n",
       "            color:  #000000;\n",
       "        }#T_604cc_row2_col8{\n",
       "            background-color:  #0000b9;\n",
       "            color:  #f1f1f1;\n",
       "        }#T_604cc_row3_col0{\n",
       "            background-color:  #0d00a8;\n",
       "            color:  #f1f1f1;\n",
       "        }#T_604cc_row3_col1,#T_604cc_row4_col2{\n",
       "            background-color:  #540060;\n",
       "            color:  #f1f1f1;\n",
       "        }#T_604cc_row3_col2{\n",
       "            background-color:  #2f0035;\n",
       "            color:  #f1f1f1;\n",
       "        }#T_604cc_row3_col3{\n",
       "            background-color:  #820093;\n",
       "            color:  #f1f1f1;\n",
       "        }#T_604cc_row3_col4{\n",
       "            background-color:  #130015;\n",
       "            color:  #f1f1f1;\n",
       "        }#T_604cc_row3_col5,#T_604cc_row6_col8{\n",
       "            background-color:  #ff9900;\n",
       "            color:  #000000;\n",
       "        }#T_604cc_row3_col6{\n",
       "            background-color:  #00dc00;\n",
       "            color:  #000000;\n",
       "        }#T_604cc_row3_col7{\n",
       "            background-color:  #00aa00;\n",
       "            color:  #000000;\n",
       "        }#T_604cc_row3_col8{\n",
       "            background-color:  #0092dd;\n",
       "            color:  #000000;\n",
       "        }#T_604cc_row4_col0{\n",
       "            background-color:  #0000dd;\n",
       "            color:  #f1f1f1;\n",
       "        }#T_604cc_row4_col1,#T_604cc_row6_col4{\n",
       "            background-color:  #5d006b;\n",
       "            color:  #f1f1f1;\n",
       "        }#T_604cc_row4_col3{\n",
       "            background-color:  #001cdd;\n",
       "            color:  #f1f1f1;\n",
       "        }#T_604cc_row4_col4{\n",
       "            background-color:  #25002b;\n",
       "            color:  #f1f1f1;\n",
       "        }#T_604cc_row4_col5{\n",
       "            background-color:  #ff1500;\n",
       "            color:  #f1f1f1;\n",
       "        }#T_604cc_row4_col6{\n",
       "            background-color:  #00f700;\n",
       "            color:  #000000;\n",
       "        }#T_604cc_row4_col7{\n",
       "            background-color:  #00ba00;\n",
       "            color:  #000000;\n",
       "        }#T_604cc_row4_col8{\n",
       "            background-color:  #00b700;\n",
       "            color:  #000000;\n",
       "        }#T_604cc_row5_col0{\n",
       "            background-color:  #007ddd;\n",
       "            color:  #f1f1f1;\n",
       "        }#T_604cc_row5_col3{\n",
       "            background-color:  #00aaa8;\n",
       "            color:  #000000;\n",
       "        }#T_604cc_row5_col4{\n",
       "            background-color:  #4b0055;\n",
       "            color:  #f1f1f1;\n",
       "        }#T_604cc_row5_col5{\n",
       "            background-color:  #d80000;\n",
       "            color:  #f1f1f1;\n",
       "        }#T_604cc_row5_col6{\n",
       "            background-color:  #67ff00;\n",
       "            color:  #000000;\n",
       "        }#T_604cc_row5_col7{\n",
       "            background-color:  #00c400;\n",
       "            color:  #000000;\n",
       "        }#T_604cc_row5_col8{\n",
       "            background-color:  #ecef00;\n",
       "            color:  #000000;\n",
       "        }#T_604cc_row6_col0{\n",
       "            background-color:  #00a2c3;\n",
       "            color:  #000000;\n",
       "        }#T_604cc_row6_col1,#T_604cc_row6_col2{\n",
       "            background-color:  #770088;\n",
       "            color:  #f1f1f1;\n",
       "        }#T_604cc_row6_col3{\n",
       "            background-color:  #00b400;\n",
       "            color:  #000000;\n",
       "        }#T_604cc_row6_col5{\n",
       "            background-color:  #cc0000;\n",
       "            color:  #f1f1f1;\n",
       "        }#T_604cc_row6_col6{\n",
       "            background-color:  #c0fd00;\n",
       "            color:  #000000;\n",
       "        }#T_604cc_row6_col7{\n",
       "            background-color:  #00da00;\n",
       "            color:  #000000;\n",
       "        }#T_604cc_row7_col0{\n",
       "            background-color:  #00a773;\n",
       "            color:  #000000;\n",
       "        }#T_604cc_row7_col1,#T_604cc_row7_col2{\n",
       "            background-color:  #7a008b;\n",
       "            color:  #f1f1f1;\n",
       "        }#T_604cc_row7_col6{\n",
       "            background-color:  #f0ea00;\n",
       "            color:  #000000;\n",
       "        }#T_604cc_row7_col7{\n",
       "            background-color:  #93ff00;\n",
       "            color:  #000000;\n",
       "        }</style><table id=\"T_604cc_\" ><thead>    <tr>        <th class=\"blank level0\" ></th>        <th class=\"col_heading level0 col0\" >age</th>        <th class=\"col_heading level0 col1\" >sleep_duration</th>        <th class=\"col_heading level0 col2\" >quality_of_sleep</th>        <th class=\"col_heading level0 col3\" >physical_activity_level</th>        <th class=\"col_heading level0 col4\" >stress_level</th>        <th class=\"col_heading level0 col5\" >systolic_pressure</th>        <th class=\"col_heading level0 col6\" >distolic_pressure</th>        <th class=\"col_heading level0 col7\" >heart_rate</th>        <th class=\"col_heading level0 col8\" >daily_steps</th>    </tr></thead><tbody>\n",
       "                <tr>\n",
       "                        <th id=\"T_604cc_level0_row0\" class=\"row_heading level0 row0\" >count</th>\n",
       "                        <td id=\"T_604cc_row0_col0\" class=\"data row0 col0\" >132.000000</td>\n",
       "                        <td id=\"T_604cc_row0_col1\" class=\"data row0 col1\" >132.000000</td>\n",
       "                        <td id=\"T_604cc_row0_col2\" class=\"data row0 col2\" >132.000000</td>\n",
       "                        <td id=\"T_604cc_row0_col3\" class=\"data row0 col3\" >132.000000</td>\n",
       "                        <td id=\"T_604cc_row0_col4\" class=\"data row0 col4\" >132.000000</td>\n",
       "                        <td id=\"T_604cc_row0_col5\" class=\"data row0 col5\" >132.000000</td>\n",
       "                        <td id=\"T_604cc_row0_col6\" class=\"data row0 col6\" >132.000000</td>\n",
       "                        <td id=\"T_604cc_row0_col7\" class=\"data row0 col7\" >132.000000</td>\n",
       "                        <td id=\"T_604cc_row0_col8\" class=\"data row0 col8\" >132.000000</td>\n",
       "            </tr>\n",
       "            <tr>\n",
       "                        <th id=\"T_604cc_level0_row1\" class=\"row_heading level0 row1\" >mean</th>\n",
       "                        <td id=\"T_604cc_row1_col0\" class=\"data row1 col0\" >41.128788</td>\n",
       "                        <td id=\"T_604cc_row1_col1\" class=\"data row1 col1\" >7.082576</td>\n",
       "                        <td id=\"T_604cc_row1_col2\" class=\"data row1 col2\" >7.151515</td>\n",
       "                        <td id=\"T_604cc_row1_col3\" class=\"data row1 col3\" >58.393939</td>\n",
       "                        <td id=\"T_604cc_row1_col4\" class=\"data row1 col4\" >5.537879</td>\n",
       "                        <td id=\"T_604cc_row1_col5\" class=\"data row1 col5\" >128.363636</td>\n",
       "                        <td id=\"T_604cc_row1_col6\" class=\"data row1 col6\" >84.537879</td>\n",
       "                        <td id=\"T_604cc_row1_col7\" class=\"data row1 col7\" >71.204545</td>\n",
       "                        <td id=\"T_604cc_row1_col8\" class=\"data row1 col8\" >6637.878788</td>\n",
       "            </tr>\n",
       "            <tr>\n",
       "                        <th id=\"T_604cc_level0_row2\" class=\"row_heading level0 row2\" >std</th>\n",
       "                        <td id=\"T_604cc_row2_col0\" class=\"data row2 col0\" >8.813942</td>\n",
       "                        <td id=\"T_604cc_row2_col1\" class=\"data row2 col1\" >0.775335</td>\n",
       "                        <td id=\"T_604cc_row2_col2\" class=\"data row2 col2\" >1.269037</td>\n",
       "                        <td id=\"T_604cc_row2_col3\" class=\"data row2 col3\" >20.468840</td>\n",
       "                        <td id=\"T_604cc_row2_col4\" class=\"data row2 col4\" >1.740428</td>\n",
       "                        <td id=\"T_604cc_row2_col5\" class=\"data row2 col5\" >7.825650</td>\n",
       "                        <td id=\"T_604cc_row2_col6\" class=\"data row2 col6\" >6.049926</td>\n",
       "                        <td id=\"T_604cc_row2_col7\" class=\"data row2 col7\" >4.867306</td>\n",
       "                        <td id=\"T_604cc_row2_col8\" class=\"data row2 col8\" >1766.288657</td>\n",
       "            </tr>\n",
       "            <tr>\n",
       "                        <th id=\"T_604cc_level0_row3\" class=\"row_heading level0 row3\" >min</th>\n",
       "                        <td id=\"T_604cc_row3_col0\" class=\"data row3 col0\" >27.000000</td>\n",
       "                        <td id=\"T_604cc_row3_col1\" class=\"data row3 col1\" >5.800000</td>\n",
       "                        <td id=\"T_604cc_row3_col2\" class=\"data row3 col2\" >4.000000</td>\n",
       "                        <td id=\"T_604cc_row3_col3\" class=\"data row3 col3\" >30.000000</td>\n",
       "                        <td id=\"T_604cc_row3_col4\" class=\"data row3 col4\" >3.000000</td>\n",
       "                        <td id=\"T_604cc_row3_col5\" class=\"data row3 col5\" >115.000000</td>\n",
       "                        <td id=\"T_604cc_row3_col6\" class=\"data row3 col6\" >75.000000</td>\n",
       "                        <td id=\"T_604cc_row3_col7\" class=\"data row3 col7\" >65.000000</td>\n",
       "                        <td id=\"T_604cc_row3_col8\" class=\"data row3 col8\" >3000.000000</td>\n",
       "            </tr>\n",
       "            <tr>\n",
       "                        <th id=\"T_604cc_level0_row4\" class=\"row_heading level0 row4\" >25%</th>\n",
       "                        <td id=\"T_604cc_row4_col0\" class=\"data row4 col0\" >33.750000</td>\n",
       "                        <td id=\"T_604cc_row4_col1\" class=\"data row4 col1\" >6.400000</td>\n",
       "                        <td id=\"T_604cc_row4_col2\" class=\"data row4 col2\" >6.000000</td>\n",
       "                        <td id=\"T_604cc_row4_col3\" class=\"data row4 col3\" >44.250000</td>\n",
       "                        <td id=\"T_604cc_row4_col4\" class=\"data row4 col4\" >4.000000</td>\n",
       "                        <td id=\"T_604cc_row4_col5\" class=\"data row4 col5\" >120.750000</td>\n",
       "                        <td id=\"T_604cc_row4_col6\" class=\"data row4 col6\" >80.000000</td>\n",
       "                        <td id=\"T_604cc_row4_col7\" class=\"data row4 col7\" >68.000000</td>\n",
       "                        <td id=\"T_604cc_row4_col8\" class=\"data row4 col8\" >5000.000000</td>\n",
       "            </tr>\n",
       "            <tr>\n",
       "                        <th id=\"T_604cc_level0_row5\" class=\"row_heading level0 row5\" >50%</th>\n",
       "                        <td id=\"T_604cc_row5_col0\" class=\"data row5 col0\" >41.000000</td>\n",
       "                        <td id=\"T_604cc_row5_col1\" class=\"data row5 col1\" >7.150000</td>\n",
       "                        <td id=\"T_604cc_row5_col2\" class=\"data row5 col2\" >7.000000</td>\n",
       "                        <td id=\"T_604cc_row5_col3\" class=\"data row5 col3\" >60.000000</td>\n",
       "                        <td id=\"T_604cc_row5_col4\" class=\"data row5 col4\" >6.000000</td>\n",
       "                        <td id=\"T_604cc_row5_col5\" class=\"data row5 col5\" >130.000000</td>\n",
       "                        <td id=\"T_604cc_row5_col6\" class=\"data row5 col6\" >85.000000</td>\n",
       "                        <td id=\"T_604cc_row5_col7\" class=\"data row5 col7\" >70.000000</td>\n",
       "                        <td id=\"T_604cc_row5_col8\" class=\"data row5 col8\" >7000.000000</td>\n",
       "            </tr>\n",
       "            <tr>\n",
       "                        <th id=\"T_604cc_level0_row6\" class=\"row_heading level0 row6\" >75%</th>\n",
       "                        <td id=\"T_604cc_row6_col0\" class=\"data row6 col0\" >49.000000</td>\n",
       "                        <td id=\"T_604cc_row6_col1\" class=\"data row6 col1\" >7.725000</td>\n",
       "                        <td id=\"T_604cc_row6_col2\" class=\"data row6 col2\" >8.000000</td>\n",
       "                        <td id=\"T_604cc_row6_col3\" class=\"data row6 col3\" >75.000000</td>\n",
       "                        <td id=\"T_604cc_row6_col4\" class=\"data row6 col4\" >7.000000</td>\n",
       "                        <td id=\"T_604cc_row6_col5\" class=\"data row6 col5\" >135.000000</td>\n",
       "                        <td id=\"T_604cc_row6_col6\" class=\"data row6 col6\" >88.500000</td>\n",
       "                        <td id=\"T_604cc_row6_col7\" class=\"data row6 col7\" >74.000000</td>\n",
       "                        <td id=\"T_604cc_row6_col8\" class=\"data row6 col8\" >8000.000000</td>\n",
       "            </tr>\n",
       "            <tr>\n",
       "                        <th id=\"T_604cc_level0_row7\" class=\"row_heading level0 row7\" >max</th>\n",
       "                        <td id=\"T_604cc_row7_col0\" class=\"data row7 col0\" >59.000000</td>\n",
       "                        <td id=\"T_604cc_row7_col1\" class=\"data row7 col1\" >8.500000</td>\n",
       "                        <td id=\"T_604cc_row7_col2\" class=\"data row7 col2\" >9.000000</td>\n",
       "                        <td id=\"T_604cc_row7_col3\" class=\"data row7 col3\" >90.000000</td>\n",
       "                        <td id=\"T_604cc_row7_col4\" class=\"data row7 col4\" >8.000000</td>\n",
       "                        <td id=\"T_604cc_row7_col5\" class=\"data row7 col5\" >142.000000</td>\n",
       "                        <td id=\"T_604cc_row7_col6\" class=\"data row7 col6\" >95.000000</td>\n",
       "                        <td id=\"T_604cc_row7_col7\" class=\"data row7 col7\" >86.000000</td>\n",
       "                        <td id=\"T_604cc_row7_col8\" class=\"data row7 col8\" >10000.000000</td>\n",
       "            </tr>\n",
       "    </tbody></table>"
      ],
      "text/plain": [
       "<pandas.io.formats.style.Styler at 0x2d5de869250>"
      ]
     },
     "execution_count": 23,
     "metadata": {},
     "output_type": "execute_result"
    }
   ],
   "source": [
    "data.describe().style.background_gradient(cmap='nipy_spectral')"
   ]
  },
  {
   "cell_type": "code",
   "execution_count": 24,
   "id": "60f3db2f",
   "metadata": {},
   "outputs": [
    {
     "data": {
      "image/png": "[encoded data removed]",
      "text/plain": [
       "<Figure size 720x576 with 2 Axes>"
      ]
     },
     "metadata": {
      "needs_background": "light"
     },
     "output_type": "display_data"
    }
   ],
   "source": [
    "#Visualize the Correlation map\n",
    "plt.figure(figsize=(10,8))\n",
    "sns.heatmap(data.corr(),cmap='brg',annot=True,fmt='.2f',linewidths=1)\n",
    "plt.title(\"The correlation map\")\n",
    "plt.show()"
   ]
  },
  {
   "cell_type": "markdown",
   "id": "5164b0b2",
   "metadata": {},
   "source": [
    "It's noteworthy that based on the correlation heatmap shown above, there is a strong positive correlation between sleep quality and sleep duration. This suggests that longer sleep hours tend to result in better sleep quality. Moreover, a strong positive correlation is observed between systolic and diastolic pressure, and a moderate correlation is observed between physical activity level and the number of daily steps, stress level and heart rate, and age and both systolic and diastolic pressure.\n",
    "\n",
    "Conversely, there is a strong negative correlation between both sleep duration and sleep quality, and a moderate negative correlation between sleep quality and heart rate."
   ]
  },
  {
   "cell_type": "markdown",
   "id": "92c184a6",
   "metadata": {},
   "source": [
    "# Explore Data Analysis"
   ]
  },
  {
   "cell_type": "markdown",
   "id": "f53a2bcf",
   "metadata": {},
   "source": [
    "### Questions Asked for data:\n",
    "- Sleep Disorder Percentage:\n",
    "- Gender Percentage in the Data using a pie chart:\n",
    "- Distribution of Age using a histogram\n",
    "- Determine the highest occupation in the dataset.\n",
    "- Analyze the distribution of sleep duration based on gender.\n",
    "- Visualize the average sleep duration across different occupations using a bar chart.\n",
    "- Explore the relationship between average sleep duration and BMI category.\n",
    "- Identify the dominant occupation within the male category.\n",
    "- Find the Average Heart with Bmi category"
   ]
  },
  {
   "cell_type": "code",
   "execution_count": 25,
   "id": "5f55ef5a",
   "metadata": {},
   "outputs": [
    {
     "data": {
      "text/plain": [
       "None           73\n",
       "Sleep Apnea    30\n",
       "Insomnia       29\n",
       "Name: sleep_disorder, dtype: int64"
      ]
     },
     "execution_count": 25,
     "metadata": {},
     "output_type": "execute_result"
    }
   ],
   "source": [
    "data['sleep_disorder'].value_counts()"
   ]
  },
  {
   "cell_type": "code",
   "execution_count": 26,
   "id": "00d5f5e0",
   "metadata": {},
   "outputs": [
    {
     "data": {
      "text/plain": [
       "<AxesSubplot:title={'center':'Sleep Disorder percentage in the data'}, ylabel='sleep_disorder'>"
      ]
     },
     "execution_count": 26,
     "metadata": {},
     "output_type": "execute_result"
    },
    {
     "data": {
      "image/png": "[encoded data removed]",
      "text/plain": [
       "<Figure size 576x648 with 1 Axes>"
      ]
     },
     "metadata": {},
     "output_type": "display_data"
    }
   ],
   "source": [
    "# Find the Sleep disorder percentage\n",
    "plt.figure(figsize=(8,9))\n",
    "data['sleep_disorder'].value_counts(normalize=True).sort_values(ascending=False)\\\n",
    ".plot(kind='pie',title=\"Sleep Disorder percentage in the data\",explode=[0.05,0.06,0.07],\n",
    "    labels=['None','Sleep Apnea','Insomnia'],\n",
    "    colors=['#64FE2E','purple','orange'],\n",
    "    autopct='%1.2f%%',\n",
    "    shadow=True)"
   ]
  },
  {
   "cell_type": "code",
   "execution_count": 27,
   "id": "9e5d61ff",
   "metadata": {},
   "outputs": [
    {
     "data": {
      "image/png": "[encoded data removed]",
      "text/plain": [
       "<Figure size 576x576 with 1 Axes>"
      ]
     },
     "metadata": {},
     "output_type": "display_data"
    }
   ],
   "source": [
    "# Find the Gender Percentage using data\n",
    "plt.figure(figsize = (8,8))\n",
    "data['gender'].value_counts(normalize=True).sort_values(ascending=False)\\\n",
    ".plot(kind='pie',title=\"Gender Percentage in the data\",explode=[0.05,0.02],\n",
    "    labels=['Male','Female'],\n",
    "    colors=['yellow','red'],\n",
    "    autopct='%1.2f%%',\n",
    "    shadow=True)\n",
    "plt.show()"
   ]
  },
  {
   "cell_type": "markdown",
   "id": "08c2908c",
   "metadata": {},
   "source": [
    "#### Observations:\n",
    "- From the above two pie charts, we can observe several pieces of information. \n",
    "- Firstly, the highest percentage in the sleep disorder pie chart is \"None,\" indicating that a significant portion of the data does not have reported sleep disorders. The second-highest sleep disorder category is \"Sleep Apnea.\"\n",
    "\n",
    "- In the second pie chart depicting gender percentages, the male percentage is higher compared to the female percentage."
   ]
  },
  {
   "cell_type": "code",
   "execution_count": 28,
   "id": "2cf7ff0d",
   "metadata": {},
   "outputs": [
    {
     "data": {
      "image/png": "[encoded data removed]",
      "text/plain": [
       "<Figure size 720x576 with 1 Axes>"
      ]
     },
     "metadata": {
      "needs_background": "light"
     },
     "output_type": "display_data"
    }
   ],
   "source": [
    "#Distribution of the age columns\n",
    "plt.figure(figsize=(10,8))\n",
    "sns.histplot(data=data,x='age',stat='count',bins=20,kde=True,color='b')\n",
    "plt.title(\"Distribution of the Age\")\n",
    "plt.show()"
   ]
  },
  {
   "cell_type": "code",
   "execution_count": 29,
   "id": "cdaf4ba4",
   "metadata": {},
   "outputs": [
    {
     "data": {
      "image/png": "[encoded data removed]",
      "text/plain": [
       "<Figure size 720x576 with 1 Axes>"
      ]
     },
     "metadata": {
      "needs_background": "light"
     },
     "output_type": "display_data"
    }
   ],
   "source": [
    "#Count of the occupation in the data using the bar plot\n",
    "data['occupation'].value_counts().sort_values(ascending=False)\\\n",
    ".plot(kind='bar',title=\"Visualize the Occupation\",figsize=(10,8),color=['#0B0B61','#00FFBF','#2EFE64','#FAAC58','#CEE3F6','#F7F8E0'])\n",
    "plt.xlabel('Occupation')\n",
    "plt.ylabel('Count of Values')\n",
    "plt.show()"
   ]
  },
  {
   "cell_type": "markdown",
   "id": "ecbcd271",
   "metadata": {},
   "source": [
    "### Observations:\n",
    "Based on the two visual representations provided above, which include a histogram and a bar chart, we can discern the following trends:\n",
    "\n",
    "- Within the age histogram, it is evident that the age 43 recurs prominently, indicating a substantial presence of individuals within this particular age bracket in the dataset.\n",
    "\n",
    "- Examining the bar chart, we can ascertain that, according to the dataset, the occupation \"Nurse\" stands out as the most prevalent, while \"Manager\" appears to be the least common occupation in terms of demand."
   ]
  },
  {
   "cell_type": "code",
   "execution_count": 30,
   "id": "6ca978aa",
   "metadata": {},
   "outputs": [
    {
     "data": {
      "image/png": "[encoded data removed]",
      "text/plain": [
       "<Figure size 720x576 with 1 Axes>"
      ]
     },
     "metadata": {
      "needs_background": "light"
     },
     "output_type": "display_data"
    }
   ],
   "source": [
    "#Visualize the Sleep Duration with Gender wise\n",
    "plt.figure(figsize=(10,8))\n",
    "sns.histplot(data=data,x='sleep_duration',bins=30,kde=True,hue='gender')\n",
    "plt.title(\"Visualize the Sleep Duration with Gender wise\")\n",
    "plt.xlabel(\"Sleep Duriation\")\n",
    "plt.ylabel(\"Count\")\n",
    "plt.show()"
   ]
  },
  {
   "cell_type": "code",
   "execution_count": 31,
   "id": "2a6e9e2d",
   "metadata": {},
   "outputs": [
    {
     "data": {
      "image/png": "[encoded data removed]",
      "text/plain": [
       "<Figure size 720x576 with 1 Axes>"
      ]
     },
     "metadata": {
      "needs_background": "light"
     },
     "output_type": "display_data"
    }
   ],
   "source": [
    "#Find the Average Sleep time of the Different Occupations\n",
    "data.groupby('occupation')['quality_of_sleep'].mean().sort_values(ascending=False)\\\n",
    ".plot(kind='bar',title=\"Average Sleep time of differnet Occupation\",figsize=(10, 8),color=['#E1F5A9','#0B4C5F','#9F81F7','#01DFA5','#82FA58'])\n",
    "plt.xlabel(\"Occupation\")\n",
    "plt.ylabel(\"Average Sleep time \")\n",
    "plt.show()"
   ]
  },
  {
   "cell_type": "markdown",
   "id": "209b41a3",
   "metadata": {},
   "source": [
    "### Observations:\n",
    "By examining the pair of charts provided, we can conduct an analysis of the mean sleep duration with respect to gender and the sleep quality relative to various occupations.\n",
    "\n",
    "As depicted in the histogram chart, the mean sleep duration for males is approximately 7.7 hours, whereas for females, it stands at approximately 8.5 hours.\n",
    "\n",
    "The bar chart conveys a clear message: among the diverse roles, the profession of \"Engineer\" boasts the highest sleep quality, while the occupation of \"Sales Representative\" registers the lowest sleep quality."
   ]
  },
  {
   "cell_type": "code",
   "execution_count": 32,
   "id": "99c50d5f",
   "metadata": {},
   "outputs": [
    {
     "name": "stdout",
     "output_type": "stream",
     "text": [
      "\n",
      "Gender Imbalance 1.0307692307692307\n",
      "\n",
      "Dominate_occupation Nurse\n",
      "\n",
      "The Least demanding_job Manager\n",
      "\n",
      "Common stress pattern 8    24\n",
      "3    22\n",
      "4    22\n",
      "7    22\n",
      "5    21\n",
      "Name: stress_level, dtype: int64\n",
      "\n",
      "Age Range (27, 59)\n",
      "\n",
      "Range of the Daily_steps (3000, 10000)\n",
      "\n",
      "Sleep Quality Skewness: 0.8782035577217029\n"
     ]
    }
   ],
   "source": [
    "#Some intresting questions asked in the data\n",
    "#Gender imbalance\n",
    "imbalanced_data=data['gender'].value_counts()[0]/data['gender'].value_counts()[1]\n",
    "print('\\nGender Imbalance',imbalanced_data)\n",
    "#find the which is the dominate_occupation in the data\n",
    "dominate_occupation=data['occupation'].value_counts().idxmax()\n",
    "print(\"\\nDominate_occupation\",dominate_occupation)\n",
    "#find the least demanding job\n",
    "least_demanding_job=data['occupation'].value_counts().idxmin()\n",
    "print(\"\\nThe Least demanding_job\",least_demanding_job)\n",
    "# find the top 5 strees level \n",
    "top_5_stress_level=data['stress_level'].value_counts().nlargest(5)\n",
    "print(\"\\nCommon stress pattern\",top_5_stress_level)\n",
    "#find the age range in the data\n",
    "age_range=(data['age'].min(),data['age'].max())\n",
    "print(\"\\nAge Range\",age_range)\n",
    "# find the daily steps in the data \n",
    "daily_steps=(data['daily_steps'].min(),data['daily_steps'].max())\n",
    "print(\"\\nRange of the Daily_steps\",daily_steps)\n",
    "# find the skewss of the sleep durations\n",
    "sleep_quality_skewness=data['sleep_duration'].value_counts().skew()\n",
    "print(\"\\nSleep Quality Skewness:\", sleep_quality_skewness)"
   ]
  },
  {
   "cell_type": "code",
   "execution_count": 33,
   "id": "548879d6",
   "metadata": {},
   "outputs": [
    {
     "data": {
      "image/png": "[encoded data removed]",
      "text/plain": [
       "<Figure size 864x720 with 1 Axes>"
      ]
     },
     "metadata": {
      "needs_background": "light"
     },
     "output_type": "display_data"
    }
   ],
   "source": [
    "#Visualize the Physical Activity with Heart Rate on Gender\n",
    "plt.figure(figsize=(12,10))\n",
    "sns.scatterplot(data=data,x='physical_activity_level',y='heart_rate',hue='gender')\n",
    "plt.title(\"Relationship between Physical Activity and Heart Rate\")\n",
    "plt.show()"
   ]
  },
  {
   "cell_type": "code",
   "execution_count": 34,
   "id": "575fd8d4",
   "metadata": {},
   "outputs": [
    {
     "data": {
      "image/png": "[encoded data removed]",
      "text/plain": [
       "<Figure size 864x720 with 1 Axes>"
      ]
     },
     "metadata": {
      "needs_background": "light"
     },
     "output_type": "display_data"
    }
   ],
   "source": [
    "# Find the Relationship between Heart Rate with Daily steps on gender\n",
    "plt.figure(figsize=(12,10))\n",
    "sns.scatterplot(data=data,x='heart_rate',y='daily_steps',hue='gender')\n",
    "plt.title(\"Relationship with Heart Rate and Daily steps on Gender\")\n",
    "plt.show()"
   ]
  },
  {
   "cell_type": "code",
   "execution_count": 35,
   "id": "9ab6dfb1",
   "metadata": {},
   "outputs": [
    {
     "data": {
      "image/png": "[encoded data removed]",
      "text/plain": [
       "<Figure size 720x576 with 1 Axes>"
      ]
     },
     "metadata": {
      "needs_background": "light"
     },
     "output_type": "display_data"
    }
   ],
   "source": [
    "#Find the average Stress level the BMI Category wise\n",
    "data.groupby('bmi_category')['stress_level'].mean().sort_values(ascending=False)\\\n",
    ".plot(kind='bar',title='Average Strees level for the BMI Category',figsize=(10, 8),color=['#2E64FE','#58FAD0','#58FA82','#58D3F7'])\n",
    "plt.xlabel(\"BMI Category\")\n",
    "plt.ylabel(\"Average Stress level\")\n",
    "plt.show()"
   ]
  },
  {
   "cell_type": "code",
   "execution_count": 36,
   "id": "edbf10be",
   "metadata": {},
   "outputs": [
    {
     "data": {
      "text/html": [
       "<style  type=\"text/css\" >\n",
       "#T_0c130_row0_col0,#T_0c130_row0_col1,#T_0c130_row0_col2,#T_0c130_row1_col3{\n",
       "            background-color:  #000000;\n",
       "            color:  #f1f1f1;\n",
       "        }#T_0c130_row0_col3,#T_0c130_row1_col0,#T_0c130_row1_col1,#T_0c130_row1_col2{\n",
       "            background-color:  #ffffff;\n",
       "            color:  #000000;\n",
       "        }</style><table id=\"T_0c130_\" ><thead>    <tr>        <th class=\"index_name level0\" >bmi_category</th>        <th class=\"col_heading level0 col0\" >Normal</th>        <th class=\"col_heading level0 col1\" >Normal Weight</th>        <th class=\"col_heading level0 col2\" >Obese</th>        <th class=\"col_heading level0 col3\" >Overweight</th>    </tr>    <tr>        <th class=\"index_name level0\" >gender</th>        <th class=\"blank\" ></th>        <th class=\"blank\" ></th>        <th class=\"blank\" ></th>        <th class=\"blank\" ></th>    </tr></thead><tbody>\n",
       "                <tr>\n",
       "                        <th id=\"T_0c130_level0_row0\" class=\"row_heading level0 row0\" >Female</th>\n",
       "                        <td id=\"T_0c130_row0_col0\" class=\"data row0 col0\" >6000.000000</td>\n",
       "                        <td id=\"T_0c130_row0_col1\" class=\"data row0 col1\" >6118.181818</td>\n",
       "                        <td id=\"T_0c130_row0_col2\" class=\"data row0 col2\" >3300.000000</td>\n",
       "                        <td id=\"T_0c130_row0_col3\" class=\"data row0 col3\" >7354.285714</td>\n",
       "            </tr>\n",
       "            <tr>\n",
       "                        <th id=\"T_0c130_level0_row1\" class=\"row_heading level0 row1\" >Male</th>\n",
       "                        <td id=\"T_0c130_row1_col0\" class=\"data row1 col0\" >7435.897436</td>\n",
       "                        <td id=\"T_0c130_row1_col1\" class=\"data row1 col1\" >7000.000000</td>\n",
       "                        <td id=\"T_0c130_row1_col2\" class=\"data row1 col2\" >3333.333333</td>\n",
       "                        <td id=\"T_0c130_row1_col3\" class=\"data row1 col3\" >5600.000000</td>\n",
       "            </tr>\n",
       "    </tbody></table>"
      ],
      "text/plain": [
       "<pandas.io.formats.style.Styler at 0x2d5def51be0>"
      ]
     },
     "execution_count": 36,
     "metadata": {},
     "output_type": "execute_result"
    }
   ],
   "source": [
    "#Find the averages daily steps with BMI Category on Gender using pivot_table\n",
    "pd.pivot_table(data=data,index='gender',values='daily_steps',columns='bmi_category',aggfunc='mean').style.background_gradient(cmap='gist_heat')"
   ]
  },
  {
   "cell_type": "code",
   "execution_count": 37,
   "id": "c63405f6",
   "metadata": {},
   "outputs": [
    {
     "data": {
      "text/html": [
       "<style  type=\"text/css\" >\n",
       "#T_3687b_row0_col0,#T_3687b_row0_col1,#T_3687b_row1_col0,#T_3687b_row1_col2,#T_3687b_row1_col3{\n",
       "            background-color:  #000000;\n",
       "            color:  #f1f1f1;\n",
       "        }#T_3687b_row0_col2,#T_3687b_row0_col3,#T_3687b_row1_col1{\n",
       "            background-color:  #ffffff;\n",
       "            color:  #000000;\n",
       "        }</style><table id=\"T_3687b_\" ><thead>    <tr>        <th class=\"index_name level0\" >blood_pressure_level</th>        <th class=\"col_heading level0 col0\" >Elevated</th>        <th class=\"col_heading level0 col1\" >Hypertension_1</th>        <th class=\"col_heading level0 col2\" >Hypertension_2</th>        <th class=\"col_heading level0 col3\" >Ideal</th>    </tr>    <tr>        <th class=\"index_name level0\" >gender</th>        <th class=\"blank\" ></th>        <th class=\"blank\" ></th>        <th class=\"blank\" ></th>        <th class=\"blank\" ></th>    </tr></thead><tbody>\n",
       "                <tr>\n",
       "                        <th id=\"T_3687b_level0_row0\" class=\"row_heading level0 row0\" >Female</th>\n",
       "                        <td id=\"T_3687b_row0_col0\" class=\"data row0 col0\" >nan</td>\n",
       "                        <td id=\"T_3687b_row0_col1\" class=\"data row0 col1\" >5270.967742</td>\n",
       "                        <td id=\"T_3687b_row0_col2\" class=\"data row0 col2\" >8476.190476</td>\n",
       "                        <td id=\"T_3687b_row0_col3\" class=\"data row0 col3\" >7276.923077</td>\n",
       "            </tr>\n",
       "            <tr>\n",
       "                        <th id=\"T_3687b_level0_row1\" class=\"row_heading level0 row1\" >Male</th>\n",
       "                        <td id=\"T_3687b_row1_col0\" class=\"data row1 col0\" >6200.000000</td>\n",
       "                        <td id=\"T_3687b_row1_col1\" class=\"data row1 col1\" >6786.666667</td>\n",
       "                        <td id=\"T_3687b_row1_col2\" class=\"data row1 col2\" >3250.000000</td>\n",
       "                        <td id=\"T_3687b_row1_col3\" class=\"data row1 col3\" >6900.000000</td>\n",
       "            </tr>\n",
       "    </tbody></table>"
      ],
      "text/plain": [
       "<pandas.io.formats.style.Styler at 0x2d5df5197c0>"
      ]
     },
     "execution_count": 37,
     "metadata": {},
     "output_type": "execute_result"
    }
   ],
   "source": [
    "#Find the averages daily steps with Blood Pressure Level on Gender using pivot_table\n",
    "pd.pivot_table(data=data,index='gender',values='daily_steps',columns='blood_pressure_level',aggfunc='mean').style.background_gradient(cmap='gist_heat')"
   ]
  },
  {
   "cell_type": "code",
   "execution_count": 38,
   "id": "3fa3923f",
   "metadata": {},
   "outputs": [
    {
     "data": {
      "image/png": "[encoded data removed]",
      "text/plain": [
       "<Figure size 720x576 with 1 Axes>"
      ]
     },
     "metadata": {
      "needs_background": "light"
     },
     "output_type": "display_data"
    }
   ],
   "source": [
    "#Find the which is most demand occupation in male category\n",
    "data.loc[data['gender']=='Male']['occupation'].value_counts(normalize=True)\\\n",
    ".plot(kind='bar',title=\"Visualize the Males Occupation\", figsize = (10,8),  color=['#58FA58','#A9F5E1','#0A2A12','#F3E2A9'])\n",
    "plt.xlabel('Occupation')\n",
    "plt.ylabel(\"Count of values\")\n",
    "plt.show()"
   ]
  },
  {
   "cell_type": "markdown",
   "id": "16e43e6d",
   "metadata": {},
   "source": [
    "### Observations:\n",
    "- In the chart provided above, a compelling pattern emerges: individuals classified as overweight tend to exhibit elevated stress levels, whereas those with a normal weight tend to experience lower stress levels.\n",
    "\n",
    "- As for the prevalence of job roles among males, it becomes apparent that the profession of \"Doctor\" stands out as the most prevalent occupation, while the role of \"Accountant\" exhibits comparatively lower prevalence."
   ]
  },
  {
   "cell_type": "code",
   "execution_count": 39,
   "id": "9ac34883",
   "metadata": {},
   "outputs": [
    {
     "data": {
      "image/png": "[encoded data removed]",
      "text/plain": [
       "<Figure size 720x576 with 1 Axes>"
      ]
     },
     "metadata": {
      "needs_background": "light"
     },
     "output_type": "display_data"
    }
   ],
   "source": [
    "# Create a histogram for distributing the averages Daily steps\n",
    "plt.figure(figsize=(10,8))\n",
    "sns.histplot(data['daily_steps'],bins='auto',kde=True)\n",
    "plt.title(\"Distribution of the Daily steps\")\n",
    "plt.show()"
   ]
  },
  {
   "cell_type": "code",
   "execution_count": 40,
   "id": "68f027f7",
   "metadata": {},
   "outputs": [
    {
     "data": {
      "image/png": "[encoded data removed]",
      "text/plain": [
       "<Figure size 720x576 with 1 Axes>"
      ]
     },
     "metadata": {
      "needs_background": "light"
     },
     "output_type": "display_data"
    }
   ],
   "source": [
    "#Create a boxplot for occupation and quality of sleep on gender\n",
    "plt.figure(figsize=(10,8))\n",
    "sns.boxplot(data=data,x='occupation',y='quality_of_sleep',hue='gender',)\n",
    "plt.xlabel(\"Occupation\")\n",
    "plt.ylabel(\"Quality of Sleep\")\n",
    "plt.xticks(rotation=60)\n",
    "plt.show()"
   ]
  },
  {
   "cell_type": "code",
   "execution_count": 41,
   "id": "0de572a3",
   "metadata": {},
   "outputs": [
    {
     "data": {
      "image/png": "[encoded data removed]",
      "text/plain": [
       "<Figure size 720x576 with 1 Axes>"
      ]
     },
     "metadata": {
      "needs_background": "light"
     },
     "output_type": "display_data"
    }
   ],
   "source": [
    "#Visualize the boxplot with heart rate with age on gender\n",
    "plt.figure(figsize=(10,8))\n",
    "sns.boxplot(data=data,x='heart_rate',y='age',hue='gender')\n",
    "plt.xlabel(\"Heart Rate\")\n",
    "plt.ylabel(\"Age\")\n",
    "plt.show()"
   ]
  },
  {
   "cell_type": "code",
   "execution_count": 42,
   "id": "e3397617",
   "metadata": {},
   "outputs": [
    {
     "data": {
      "image/png": "[encoded data removed]",
      "text/plain": [
       "<Figure size 720x576 with 1 Axes>"
      ]
     },
     "metadata": {
      "needs_background": "light"
     },
     "output_type": "display_data"
    }
   ],
   "source": [
    "#Crete a bar chart with blood Pressure\n",
    "plt.figure(figsize = (10,8))\n",
    "data['blood_pressure_level'].value_counts(normalize=True).sort_values(ascending=False)\\\n",
    ".plot(kind='bar',title=\"visualize the Blood Pressure\",color=['#0A122A','#A9F5BC','#2A1B0A'])\n",
    "plt.xlabel(\"Blood Pressure\")\n",
    "plt.ylabel(\"Count of value\")\n",
    "plt.show()"
   ]
  },
  {
   "cell_type": "code",
   "execution_count": 43,
   "id": "b887b812",
   "metadata": {},
   "outputs": [
    {
     "data": {
      "image/png": "[encoded data removed]",
      "text/plain": [
       "<Figure size 720x576 with 1 Axes>"
      ]
     },
     "metadata": {
      "needs_background": "light"
     },
     "output_type": "display_data"
    }
   ],
   "source": [
    "#Find the Average heart rate with Bmi category wise\n",
    "plt.figure(figsize = (10,8))\n",
    "data.groupby('bmi_category')['heart_rate'].mean().sort_values(ascending=False)\\\n",
    ".plot(kind='bar',title='Average Heart Rate with BMI Category wise',color=['#81F79F','#8181F7','#CEF6CE'])\n",
    "plt.xlabel(\"BMI Category\")\n",
    "plt.ylabel(\"Average Heart Rate\")\n",
    "plt.show()"
   ]
  },
  {
   "cell_type": "code",
   "execution_count": 44,
   "id": "0f531799",
   "metadata": {},
   "outputs": [
    {
     "data": {
      "text/html": [
       "<style  type=\"text/css\" >\n",
       "#T_3ee19_row0_col0,#T_3ee19_row10_col0{\n",
       "            background-color:  #500000;\n",
       "            color:  #f1f1f1;\n",
       "        }#T_3ee19_row0_col1{\n",
       "            background-color:  #a60000;\n",
       "            color:  #f1f1f1;\n",
       "        }#T_3ee19_row0_col2,#T_3ee19_row1_col0,#T_3ee19_row1_col3,#T_3ee19_row2_col2,#T_3ee19_row3_col1,#T_3ee19_row4_col0,#T_3ee19_row4_col1,#T_3ee19_row4_col2,#T_3ee19_row5_col0,#T_3ee19_row5_col1,#T_3ee19_row5_col2,#T_3ee19_row6_col0,#T_3ee19_row6_col1,#T_3ee19_row6_col2,#T_3ee19_row6_col3,#T_3ee19_row7_col0,#T_3ee19_row7_col1,#T_3ee19_row7_col2,#T_3ee19_row8_col0,#T_3ee19_row8_col1,#T_3ee19_row8_col2,#T_3ee19_row8_col3,#T_3ee19_row9_col0,#T_3ee19_row9_col2,#T_3ee19_row10_col1{\n",
       "            background-color:  #000000;\n",
       "            color:  #f1f1f1;\n",
       "        }#T_3ee19_row0_col3{\n",
       "            background-color:  #c00100;\n",
       "            color:  #f1f1f1;\n",
       "        }#T_3ee19_row1_col1,#T_3ee19_row1_col2,#T_3ee19_row2_col0,#T_3ee19_row3_col3{\n",
       "            background-color:  #ffffff;\n",
       "            color:  #000000;\n",
       "        }#T_3ee19_row2_col1{\n",
       "            background-color:  #800000;\n",
       "            color:  #f1f1f1;\n",
       "        }#T_3ee19_row2_col3{\n",
       "            background-color:  #ffc183;\n",
       "            color:  #000000;\n",
       "        }#T_3ee19_row3_col0,#T_3ee19_row9_col1{\n",
       "            background-color:  #b10000;\n",
       "            color:  #f1f1f1;\n",
       "        }#T_3ee19_row3_col2{\n",
       "            background-color:  #ffab57;\n",
       "            color:  #000000;\n",
       "        }#T_3ee19_row4_col3{\n",
       "            background-color:  #ffa347;\n",
       "            color:  #000000;\n",
       "        }#T_3ee19_row5_col3{\n",
       "            background-color:  #ffcb97;\n",
       "            color:  #000000;\n",
       "        }#T_3ee19_row7_col3{\n",
       "            background-color:  #930000;\n",
       "            color:  #f1f1f1;\n",
       "        }#T_3ee19_row9_col3{\n",
       "            background-color:  #220000;\n",
       "            color:  #f1f1f1;\n",
       "        }#T_3ee19_row10_col2{\n",
       "            background-color:  #540000;\n",
       "            color:  #f1f1f1;\n",
       "        }#T_3ee19_row10_col3{\n",
       "            background-color:  #de2900;\n",
       "            color:  #f1f1f1;\n",
       "        }</style><table id=\"T_3ee19_\" ><thead>    <tr>        <th class=\"index_name level0\" >bmi_category</th>        <th class=\"col_heading level0 col0\" >Normal</th>        <th class=\"col_heading level0 col1\" >Normal Weight</th>        <th class=\"col_heading level0 col2\" >Obese</th>        <th class=\"col_heading level0 col3\" >Overweight</th>    </tr>    <tr>        <th class=\"index_name level0\" >occupation</th>        <th class=\"blank\" ></th>        <th class=\"blank\" ></th>        <th class=\"blank\" ></th>        <th class=\"blank\" ></th>    </tr></thead><tbody>\n",
       "                <tr>\n",
       "                        <th id=\"T_3ee19_level0_row0\" class=\"row_heading level0 row0\" >Accountant</th>\n",
       "                        <td id=\"T_3ee19_row0_col0\" class=\"data row0 col0\" >7.166667</td>\n",
       "                        <td id=\"T_3ee19_row0_col1\" class=\"data row0 col1\" >7.466667</td>\n",
       "                        <td id=\"T_3ee19_row0_col2\" class=\"data row0 col2\" >nan</td>\n",
       "                        <td id=\"T_3ee19_row0_col3\" class=\"data row0 col3\" >6.550000</td>\n",
       "            </tr>\n",
       "            <tr>\n",
       "                        <th id=\"T_3ee19_level0_row1\" class=\"row_heading level0 row1\" >Doctor</th>\n",
       "                        <td id=\"T_3ee19_row1_col0\" class=\"data row1 col0\" >6.933333</td>\n",
       "                        <td id=\"T_3ee19_row1_col1\" class=\"data row1 col1\" >8.200000</td>\n",
       "                        <td id=\"T_3ee19_row1_col2\" class=\"data row1 col2\" >7.700000</td>\n",
       "                        <td id=\"T_3ee19_row1_col3\" class=\"data row1 col3\" >nan</td>\n",
       "            </tr>\n",
       "            <tr>\n",
       "                        <th id=\"T_3ee19_level0_row2\" class=\"row_heading level0 row2\" >Engineer</th>\n",
       "                        <td id=\"T_3ee19_row2_col0\" class=\"data row2 col0\" >8.043750</td>\n",
       "                        <td id=\"T_3ee19_row2_col1\" class=\"data row2 col1\" >7.333333</td>\n",
       "                        <td id=\"T_3ee19_row2_col2\" class=\"data row2 col2\" >nan</td>\n",
       "                        <td id=\"T_3ee19_row2_col3\" class=\"data row2 col3\" >6.966667</td>\n",
       "            </tr>\n",
       "            <tr>\n",
       "                        <th id=\"T_3ee19_level0_row3\" class=\"row_heading level0 row3\" >Lawyer</th>\n",
       "                        <td id=\"T_3ee19_row3_col0\" class=\"data row3 col0\" >7.445455</td>\n",
       "                        <td id=\"T_3ee19_row3_col1\" class=\"data row3 col1\" >6.900000</td>\n",
       "                        <td id=\"T_3ee19_row3_col2\" class=\"data row3 col2\" >7.400000</td>\n",
       "                        <td id=\"T_3ee19_row3_col3\" class=\"data row3 col3\" >7.100000</td>\n",
       "            </tr>\n",
       "            <tr>\n",
       "                        <th id=\"T_3ee19_level0_row4\" class=\"row_heading level0 row4\" >Manager</th>\n",
       "                        <td id=\"T_3ee19_row4_col0\" class=\"data row4 col0\" >nan</td>\n",
       "                        <td id=\"T_3ee19_row4_col1\" class=\"data row4 col1\" >nan</td>\n",
       "                        <td id=\"T_3ee19_row4_col2\" class=\"data row4 col2\" >nan</td>\n",
       "                        <td id=\"T_3ee19_row4_col3\" class=\"data row4 col3\" >6.900000</td>\n",
       "            </tr>\n",
       "            <tr>\n",
       "                        <th id=\"T_3ee19_level0_row5\" class=\"row_heading level0 row5\" >Nurse</th>\n",
       "                        <td id=\"T_3ee19_row5_col0\" class=\"data row5 col0\" >nan</td>\n",
       "                        <td id=\"T_3ee19_row5_col1\" class=\"data row5 col1\" >6.900000</td>\n",
       "                        <td id=\"T_3ee19_row5_col2\" class=\"data row5 col2\" >nan</td>\n",
       "                        <td id=\"T_3ee19_row5_col3\" class=\"data row5 col3\" >6.986364</td>\n",
       "            </tr>\n",
       "            <tr>\n",
       "                        <th id=\"T_3ee19_level0_row6\" class=\"row_heading level0 row6\" >Sales Representative</th>\n",
       "                        <td id=\"T_3ee19_row6_col0\" class=\"data row6 col0\" >nan</td>\n",
       "                        <td id=\"T_3ee19_row6_col1\" class=\"data row6 col1\" >nan</td>\n",
       "                        <td id=\"T_3ee19_row6_col2\" class=\"data row6 col2\" >5.900000</td>\n",
       "                        <td id=\"T_3ee19_row6_col3\" class=\"data row6 col3\" >nan</td>\n",
       "            </tr>\n",
       "            <tr>\n",
       "                        <th id=\"T_3ee19_level0_row7\" class=\"row_heading level0 row7\" >Salesperson</th>\n",
       "                        <td id=\"T_3ee19_row7_col0\" class=\"data row7 col0\" >nan</td>\n",
       "                        <td id=\"T_3ee19_row7_col1\" class=\"data row7 col1\" >nan</td>\n",
       "                        <td id=\"T_3ee19_row7_col2\" class=\"data row7 col2\" >nan</td>\n",
       "                        <td id=\"T_3ee19_row7_col3\" class=\"data row7 col3\" >6.422222</td>\n",
       "            </tr>\n",
       "            <tr>\n",
       "                        <th id=\"T_3ee19_level0_row8\" class=\"row_heading level0 row8\" >Scientist</th>\n",
       "                        <td id=\"T_3ee19_row8_col0\" class=\"data row8 col0\" >nan</td>\n",
       "                        <td id=\"T_3ee19_row8_col1\" class=\"data row8 col1\" >nan</td>\n",
       "                        <td id=\"T_3ee19_row8_col2\" class=\"data row8 col2\" >nan</td>\n",
       "                        <td id=\"T_3ee19_row8_col3\" class=\"data row8 col3\" >6.000000</td>\n",
       "            </tr>\n",
       "            <tr>\n",
       "                        <th id=\"T_3ee19_level0_row9\" class=\"row_heading level0 row9\" >Software Engineer</th>\n",
       "                        <td id=\"T_3ee19_row9_col0\" class=\"data row9 col0\" >nan</td>\n",
       "                        <td id=\"T_3ee19_row9_col1\" class=\"data row9 col1\" >7.500000</td>\n",
       "                        <td id=\"T_3ee19_row9_col2\" class=\"data row9 col2\" >5.900000</td>\n",
       "                        <td id=\"T_3ee19_row9_col3\" class=\"data row9 col3\" >6.100000</td>\n",
       "            </tr>\n",
       "            <tr>\n",
       "                        <th id=\"T_3ee19_level0_row10\" class=\"row_heading level0 row10\" >Teacher</th>\n",
       "                        <td id=\"T_3ee19_row10_col0\" class=\"data row10 col0\" >7.166667</td>\n",
       "                        <td id=\"T_3ee19_row10_col1\" class=\"data row10 col1\" >nan</td>\n",
       "                        <td id=\"T_3ee19_row10_col2\" class=\"data row10 col2\" >6.300000</td>\n",
       "                        <td id=\"T_3ee19_row10_col3\" class=\"data row10 col3\" >6.636364</td>\n",
       "            </tr>\n",
       "    </tbody></table>"
      ],
      "text/plain": [
       "<pandas.io.formats.style.Styler at 0x2d5df5ee400>"
      ]
     },
     "execution_count": 44,
     "metadata": {},
     "output_type": "execute_result"
    }
   ],
   "source": [
    "#Find the Average sleep duration with occupation with BMI Category on sleep Duration\n",
    "data.groupby(['occupation','bmi_category'])['sleep_duration'].mean().sort_values(ascending=False)\\\n",
    ".unstack()\\\n",
    ".style.background_gradient(cmap='gist_heat')"
   ]
  },
  {
   "cell_type": "code",
   "execution_count": 45,
   "id": "5a82e1ea",
   "metadata": {},
   "outputs": [
    {
     "data": {
      "image/png": "[encoded data removed]",
      "text/plain": [
       "<Figure size 720x576 with 1 Axes>"
      ]
     },
     "metadata": {
      "needs_background": "light"
     },
     "output_type": "display_data"
    }
   ],
   "source": [
    "#Create a countplot for occupation on the gender\n",
    "plt.figure(figsize=(10,8))\n",
    "sns.countplot(data=data,x='occupation',hue='gender')\n",
    "plt.title(\"Count of the Occupation on Gender\")\n",
    "plt.xlabel(\"Occupation\")\n",
    "plt.ylabel(\"Count of values\")\n",
    "plt.show()"
   ]
  },
  {
   "cell_type": "markdown",
   "id": "457b1212",
   "metadata": {},
   "source": [
    "#### Label Encoding"
   ]
  },
  {
   "cell_type": "code",
   "execution_count": 89,
   "id": "6cf9ae32",
   "metadata": {},
   "outputs": [],
   "source": [
    "from sklearn.preprocessing import MinMaxScaler,LabelEncoder"
   ]
  },
  {
   "cell_type": "code",
   "execution_count": 90,
   "id": "c8dd0bff",
   "metadata": {},
   "outputs": [],
   "source": [
    "#Covert the Categorical Columns to into numerical values\n",
    "for col in data.select_dtypes(include='object'):\n",
    "    label_encoder=LabelEncoder()\n",
    "    label_encoder.fit(data[col].unique())\n",
    "    data[col]=label_encoder.transform(data[col])"
   ]
  },
  {
   "cell_type": "code",
   "execution_count": 91,
   "id": "e3b13d50",
   "metadata": {},
   "outputs": [
    {
     "data": {
      "text/html": [
       "<div>\n",
       "<style scoped>\n",
       "    .dataframe tbody tr th:only-of-type {\n",
       "        vertical-align: middle;\n",
       "    }\n",
       "\n",
       "    .dataframe tbody tr th {\n",
       "        vertical-align: top;\n",
       "    }\n",
       "\n",
       "    .dataframe thead th {\n",
       "        text-align: right;\n",
       "    }\n",
       "</style>\n",
       "<table border=\"1\" class=\"dataframe\">\n",
       "  <thead>\n",
       "    <tr style=\"text-align: right;\">\n",
       "      <th></th>\n",
       "      <th>gender</th>\n",
       "      <th>age</th>\n",
       "      <th>occupation</th>\n",
       "      <th>sleep_duration</th>\n",
       "      <th>quality_of_sleep</th>\n",
       "      <th>physical_activity_level</th>\n",
       "      <th>stress_level</th>\n",
       "      <th>systolic_pressure</th>\n",
       "      <th>distolic_pressure</th>\n",
       "      <th>blood_pressure_level</th>\n",
       "      <th>bmi_category</th>\n",
       "      <th>heart_rate</th>\n",
       "      <th>daily_steps</th>\n",
       "      <th>sleep_disorder</th>\n",
       "    </tr>\n",
       "    <tr>\n",
       "      <th>person_id</th>\n",
       "      <th></th>\n",
       "      <th></th>\n",
       "      <th></th>\n",
       "      <th></th>\n",
       "      <th></th>\n",
       "      <th></th>\n",
       "      <th></th>\n",
       "      <th></th>\n",
       "      <th></th>\n",
       "      <th></th>\n",
       "      <th></th>\n",
       "      <th></th>\n",
       "      <th></th>\n",
       "      <th></th>\n",
       "    </tr>\n",
       "  </thead>\n",
       "  <tbody>\n",
       "    <tr>\n",
       "      <th>68</th>\n",
       "      <td>1</td>\n",
       "      <td>33</td>\n",
       "      <td>1</td>\n",
       "      <td>6.0</td>\n",
       "      <td>6</td>\n",
       "      <td>30</td>\n",
       "      <td>8</td>\n",
       "      <td>125</td>\n",
       "      <td>80</td>\n",
       "      <td>1</td>\n",
       "      <td>0</td>\n",
       "      <td>72</td>\n",
       "      <td>5000</td>\n",
       "      <td>0</td>\n",
       "    </tr>\n",
       "  </tbody>\n",
       "</table>\n",
       "</div>"
      ],
      "text/plain": [
       "           gender  age  occupation  sleep_duration  quality_of_sleep  \\\n",
       "person_id                                                              \n",
       "68              1   33           1             6.0                 6   \n",
       "\n",
       "           physical_activity_level  stress_level  systolic_pressure  \\\n",
       "person_id                                                             \n",
       "68                              30             8                125   \n",
       "\n",
       "           distolic_pressure  blood_pressure_level  bmi_category  heart_rate  \\\n",
       "person_id                                                                      \n",
       "68                        80                     1             0          72   \n",
       "\n",
       "           daily_steps  sleep_disorder  \n",
       "person_id                               \n",
       "68                5000               0  "
      ]
     },
     "execution_count": 91,
     "metadata": {},
     "output_type": "execute_result"
    }
   ],
   "source": [
    "data.sample()"
   ]
  },
  {
   "cell_type": "markdown",
   "id": "025c98d7",
   "metadata": {},
   "source": [
    "## Multicolinearity Analysis"
   ]
  },
  {
   "cell_type": "code",
   "execution_count": 46,
   "id": "62b5d80b",
   "metadata": {},
   "outputs": [],
   "source": [
    "df = data.copy()\n",
    "unclean_df = data.copy()"
   ]
  },
  {
   "cell_type": "code",
   "execution_count": 47,
   "id": "57f80446",
   "metadata": {},
   "outputs": [],
   "source": [
    "# importing libraries for assesing the degree of multicolinearity amongst the variable\n",
    "import statsmodels.api as sm\n",
    "from statsmodels.stats.outliers_influence import variance_inflation_factor"
   ]
  },
  {
   "cell_type": "code",
   "execution_count": 48,
   "id": "42853387",
   "metadata": {},
   "outputs": [],
   "source": [
    "# function for tabulating the score of multicolinearity of aeach column in descending order\n",
    "def calc_vif(x):\n",
    "    vif=pd.DataFrame()\n",
    "    vif['column']=x.columns\n",
    "    vif['vif']=[variance_inflation_factor(x.values,i) for i in range(x.shape[1])]\n",
    "    # Sort the DataFrame by 'vif' column in descending order\n",
    "    vif = vif.sort_values(by='vif', ascending=False)\n",
    "    return vif\n",
    "\n",
    "# function to iterate the drop in the columns with the highest variance enflation factor score \n",
    "# iterates the conditional loop untill the highest vif score is less or equal to 5 and outputs the resulting data\n",
    "\n",
    "def drop_high_vif_columns(df, threshold=5):\n",
    "    while True:\n",
    "        vif_result = calc_vif(df)\n",
    "        highest_vif_column = vif_result.iloc[0]['column']\n",
    "        highest_vif_value = vif_result.iloc[0]['vif']\n",
    "        \n",
    "        if highest_vif_value > threshold:\n",
    "            print(f\"Dropping column '{highest_vif_column}' with VIF {highest_vif_value:.2f}\")\n",
    "            df = df.drop(columns=highest_vif_column)\n",
    "        else:\n",
    "            print(\"VIF condition satisfied. Stopping the process.\")\n",
    "            break\n",
    "\n",
    "    return df"
   ]
  },
  {
   "cell_type": "code",
   "execution_count": 49,
   "id": "04119bb3",
   "metadata": {},
   "outputs": [
    {
     "ename": "TypeError",
     "evalue": "ufunc 'isfinite' not supported for the input types, and the inputs could not be safely coerced to any supported types according to the casting rule ''safe''",
     "output_type": "error",
     "traceback": [
      "\u001b[1;31m---------------------------------------------------------------------------\u001b[0m",
      "\u001b[1;31mTypeError\u001b[0m                                 Traceback (most recent call last)",
      "\u001b[1;32m<ipython-input-49-271e38d110ea>\u001b[0m in \u001b[0;36m<module>\u001b[1;34m\u001b[0m\n\u001b[1;32m----> 1\u001b[1;33m \u001b[0mclean_df\u001b[0m \u001b[1;33m=\u001b[0m \u001b[0mdrop_high_vif_columns\u001b[0m\u001b[1;33m(\u001b[0m\u001b[0munclean_df\u001b[0m\u001b[1;33m)\u001b[0m\u001b[1;33m\u001b[0m\u001b[1;33m\u001b[0m\u001b[0m\n\u001b[0m\u001b[0;32m      2\u001b[0m \u001b[1;33m\u001b[0m\u001b[0m\n\u001b[0;32m      3\u001b[0m \u001b[0mcalc_vif\u001b[0m\u001b[1;33m(\u001b[0m\u001b[0mclean_df\u001b[0m\u001b[1;33m)\u001b[0m\u001b[1;33m\u001b[0m\u001b[1;33m\u001b[0m\u001b[0m\n",
      "\u001b[1;32m<ipython-input-48-b906e612824d>\u001b[0m in \u001b[0;36mdrop_high_vif_columns\u001b[1;34m(df, threshold)\u001b[0m\n\u001b[0;32m     13\u001b[0m \u001b[1;32mdef\u001b[0m \u001b[0mdrop_high_vif_columns\u001b[0m\u001b[1;33m(\u001b[0m\u001b[0mdf\u001b[0m\u001b[1;33m,\u001b[0m \u001b[0mthreshold\u001b[0m\u001b[1;33m=\u001b[0m\u001b[1;36m5\u001b[0m\u001b[1;33m)\u001b[0m\u001b[1;33m:\u001b[0m\u001b[1;33m\u001b[0m\u001b[1;33m\u001b[0m\u001b[0m\n\u001b[0;32m     14\u001b[0m     \u001b[1;32mwhile\u001b[0m \u001b[1;32mTrue\u001b[0m\u001b[1;33m:\u001b[0m\u001b[1;33m\u001b[0m\u001b[1;33m\u001b[0m\u001b[0m\n\u001b[1;32m---> 15\u001b[1;33m         \u001b[0mvif_result\u001b[0m \u001b[1;33m=\u001b[0m \u001b[0mcalc_vif\u001b[0m\u001b[1;33m(\u001b[0m\u001b[0mdf\u001b[0m\u001b[1;33m)\u001b[0m\u001b[1;33m\u001b[0m\u001b[1;33m\u001b[0m\u001b[0m\n\u001b[0m\u001b[0;32m     16\u001b[0m         \u001b[0mhighest_vif_column\u001b[0m \u001b[1;33m=\u001b[0m \u001b[0mvif_result\u001b[0m\u001b[1;33m.\u001b[0m\u001b[0miloc\u001b[0m\u001b[1;33m[\u001b[0m\u001b[1;36m0\u001b[0m\u001b[1;33m]\u001b[0m\u001b[1;33m[\u001b[0m\u001b[1;34m'column'\u001b[0m\u001b[1;33m]\u001b[0m\u001b[1;33m\u001b[0m\u001b[1;33m\u001b[0m\u001b[0m\n\u001b[0;32m     17\u001b[0m         \u001b[0mhighest_vif_value\u001b[0m \u001b[1;33m=\u001b[0m \u001b[0mvif_result\u001b[0m\u001b[1;33m.\u001b[0m\u001b[0miloc\u001b[0m\u001b[1;33m[\u001b[0m\u001b[1;36m0\u001b[0m\u001b[1;33m]\u001b[0m\u001b[1;33m[\u001b[0m\u001b[1;34m'vif'\u001b[0m\u001b[1;33m]\u001b[0m\u001b[1;33m\u001b[0m\u001b[1;33m\u001b[0m\u001b[0m\n",
      "\u001b[1;32m<ipython-input-48-b906e612824d>\u001b[0m in \u001b[0;36mcalc_vif\u001b[1;34m(x)\u001b[0m\n\u001b[0;32m      3\u001b[0m     \u001b[0mvif\u001b[0m\u001b[1;33m=\u001b[0m\u001b[0mpd\u001b[0m\u001b[1;33m.\u001b[0m\u001b[0mDataFrame\u001b[0m\u001b[1;33m(\u001b[0m\u001b[1;33m)\u001b[0m\u001b[1;33m\u001b[0m\u001b[1;33m\u001b[0m\u001b[0m\n\u001b[0;32m      4\u001b[0m     \u001b[0mvif\u001b[0m\u001b[1;33m[\u001b[0m\u001b[1;34m'column'\u001b[0m\u001b[1;33m]\u001b[0m\u001b[1;33m=\u001b[0m\u001b[0mx\u001b[0m\u001b[1;33m.\u001b[0m\u001b[0mcolumns\u001b[0m\u001b[1;33m\u001b[0m\u001b[1;33m\u001b[0m\u001b[0m\n\u001b[1;32m----> 5\u001b[1;33m     \u001b[0mvif\u001b[0m\u001b[1;33m[\u001b[0m\u001b[1;34m'vif'\u001b[0m\u001b[1;33m]\u001b[0m\u001b[1;33m=\u001b[0m\u001b[1;33m[\u001b[0m\u001b[0mvariance_inflation_factor\u001b[0m\u001b[1;33m(\u001b[0m\u001b[0mx\u001b[0m\u001b[1;33m.\u001b[0m\u001b[0mvalues\u001b[0m\u001b[1;33m,\u001b[0m\u001b[0mi\u001b[0m\u001b[1;33m)\u001b[0m \u001b[1;32mfor\u001b[0m \u001b[0mi\u001b[0m \u001b[1;32min\u001b[0m \u001b[0mrange\u001b[0m\u001b[1;33m(\u001b[0m\u001b[0mx\u001b[0m\u001b[1;33m.\u001b[0m\u001b[0mshape\u001b[0m\u001b[1;33m[\u001b[0m\u001b[1;36m1\u001b[0m\u001b[1;33m]\u001b[0m\u001b[1;33m)\u001b[0m\u001b[1;33m]\u001b[0m\u001b[1;33m\u001b[0m\u001b[1;33m\u001b[0m\u001b[0m\n\u001b[0m\u001b[0;32m      6\u001b[0m     \u001b[1;31m# Sort the DataFrame by 'vif' column in descending order\u001b[0m\u001b[1;33m\u001b[0m\u001b[1;33m\u001b[0m\u001b[1;33m\u001b[0m\u001b[0m\n\u001b[0;32m      7\u001b[0m     \u001b[0mvif\u001b[0m \u001b[1;33m=\u001b[0m \u001b[0mvif\u001b[0m\u001b[1;33m.\u001b[0m\u001b[0msort_values\u001b[0m\u001b[1;33m(\u001b[0m\u001b[0mby\u001b[0m\u001b[1;33m=\u001b[0m\u001b[1;34m'vif'\u001b[0m\u001b[1;33m,\u001b[0m \u001b[0mascending\u001b[0m\u001b[1;33m=\u001b[0m\u001b[1;32mFalse\u001b[0m\u001b[1;33m)\u001b[0m\u001b[1;33m\u001b[0m\u001b[1;33m\u001b[0m\u001b[0m\n",
      "\u001b[1;32m<ipython-input-48-b906e612824d>\u001b[0m in \u001b[0;36m<listcomp>\u001b[1;34m(.0)\u001b[0m\n\u001b[0;32m      3\u001b[0m     \u001b[0mvif\u001b[0m\u001b[1;33m=\u001b[0m\u001b[0mpd\u001b[0m\u001b[1;33m.\u001b[0m\u001b[0mDataFrame\u001b[0m\u001b[1;33m(\u001b[0m\u001b[1;33m)\u001b[0m\u001b[1;33m\u001b[0m\u001b[1;33m\u001b[0m\u001b[0m\n\u001b[0;32m      4\u001b[0m     \u001b[0mvif\u001b[0m\u001b[1;33m[\u001b[0m\u001b[1;34m'column'\u001b[0m\u001b[1;33m]\u001b[0m\u001b[1;33m=\u001b[0m\u001b[0mx\u001b[0m\u001b[1;33m.\u001b[0m\u001b[0mcolumns\u001b[0m\u001b[1;33m\u001b[0m\u001b[1;33m\u001b[0m\u001b[0m\n\u001b[1;32m----> 5\u001b[1;33m     \u001b[0mvif\u001b[0m\u001b[1;33m[\u001b[0m\u001b[1;34m'vif'\u001b[0m\u001b[1;33m]\u001b[0m\u001b[1;33m=\u001b[0m\u001b[1;33m[\u001b[0m\u001b[0mvariance_inflation_factor\u001b[0m\u001b[1;33m(\u001b[0m\u001b[0mx\u001b[0m\u001b[1;33m.\u001b[0m\u001b[0mvalues\u001b[0m\u001b[1;33m,\u001b[0m\u001b[0mi\u001b[0m\u001b[1;33m)\u001b[0m \u001b[1;32mfor\u001b[0m \u001b[0mi\u001b[0m \u001b[1;32min\u001b[0m \u001b[0mrange\u001b[0m\u001b[1;33m(\u001b[0m\u001b[0mx\u001b[0m\u001b[1;33m.\u001b[0m\u001b[0mshape\u001b[0m\u001b[1;33m[\u001b[0m\u001b[1;36m1\u001b[0m\u001b[1;33m]\u001b[0m\u001b[1;33m)\u001b[0m\u001b[1;33m]\u001b[0m\u001b[1;33m\u001b[0m\u001b[1;33m\u001b[0m\u001b[0m\n\u001b[0m\u001b[0;32m      6\u001b[0m     \u001b[1;31m# Sort the DataFrame by 'vif' column in descending order\u001b[0m\u001b[1;33m\u001b[0m\u001b[1;33m\u001b[0m\u001b[1;33m\u001b[0m\u001b[0m\n\u001b[0;32m      7\u001b[0m     \u001b[0mvif\u001b[0m \u001b[1;33m=\u001b[0m \u001b[0mvif\u001b[0m\u001b[1;33m.\u001b[0m\u001b[0msort_values\u001b[0m\u001b[1;33m(\u001b[0m\u001b[0mby\u001b[0m\u001b[1;33m=\u001b[0m\u001b[1;34m'vif'\u001b[0m\u001b[1;33m,\u001b[0m \u001b[0mascending\u001b[0m\u001b[1;33m=\u001b[0m\u001b[1;32mFalse\u001b[0m\u001b[1;33m)\u001b[0m\u001b[1;33m\u001b[0m\u001b[1;33m\u001b[0m\u001b[0m\n",
      "\u001b[1;32m~\\anaconda3\\lib\\site-packages\\statsmodels\\stats\\outliers_influence.py\u001b[0m in \u001b[0;36mvariance_inflation_factor\u001b[1;34m(exog, exog_idx)\u001b[0m\n\u001b[0;32m    190\u001b[0m     \u001b[0mmask\u001b[0m \u001b[1;33m=\u001b[0m \u001b[0mnp\u001b[0m\u001b[1;33m.\u001b[0m\u001b[0marange\u001b[0m\u001b[1;33m(\u001b[0m\u001b[0mk_vars\u001b[0m\u001b[1;33m)\u001b[0m \u001b[1;33m!=\u001b[0m \u001b[0mexog_idx\u001b[0m\u001b[1;33m\u001b[0m\u001b[1;33m\u001b[0m\u001b[0m\n\u001b[0;32m    191\u001b[0m     \u001b[0mx_noti\u001b[0m \u001b[1;33m=\u001b[0m \u001b[0mexog\u001b[0m\u001b[1;33m[\u001b[0m\u001b[1;33m:\u001b[0m\u001b[1;33m,\u001b[0m \u001b[0mmask\u001b[0m\u001b[1;33m]\u001b[0m\u001b[1;33m\u001b[0m\u001b[1;33m\u001b[0m\u001b[0m\n\u001b[1;32m--> 192\u001b[1;33m     \u001b[0mr_squared_i\u001b[0m \u001b[1;33m=\u001b[0m \u001b[0mOLS\u001b[0m\u001b[1;33m(\u001b[0m\u001b[0mx_i\u001b[0m\u001b[1;33m,\u001b[0m \u001b[0mx_noti\u001b[0m\u001b[1;33m)\u001b[0m\u001b[1;33m.\u001b[0m\u001b[0mfit\u001b[0m\u001b[1;33m(\u001b[0m\u001b[1;33m)\u001b[0m\u001b[1;33m.\u001b[0m\u001b[0mrsquared\u001b[0m\u001b[1;33m\u001b[0m\u001b[1;33m\u001b[0m\u001b[0m\n\u001b[0m\u001b[0;32m    193\u001b[0m     \u001b[0mvif\u001b[0m \u001b[1;33m=\u001b[0m \u001b[1;36m1.\u001b[0m \u001b[1;33m/\u001b[0m \u001b[1;33m(\u001b[0m\u001b[1;36m1.\u001b[0m \u001b[1;33m-\u001b[0m \u001b[0mr_squared_i\u001b[0m\u001b[1;33m)\u001b[0m\u001b[1;33m\u001b[0m\u001b[1;33m\u001b[0m\u001b[0m\n\u001b[0;32m    194\u001b[0m     \u001b[1;32mreturn\u001b[0m \u001b[0mvif\u001b[0m\u001b[1;33m\u001b[0m\u001b[1;33m\u001b[0m\u001b[0m\n",
      "\u001b[1;32m~\\anaconda3\\lib\\site-packages\\statsmodels\\regression\\linear_model.py\u001b[0m in \u001b[0;36m__init__\u001b[1;34m(self, endog, exog, missing, hasconst, **kwargs)\u001b[0m\n\u001b[0;32m    870\u001b[0m     def __init__(self, endog, exog=None, missing='none', hasconst=None,\n\u001b[0;32m    871\u001b[0m                  **kwargs):\n\u001b[1;32m--> 872\u001b[1;33m         super(OLS, self).__init__(endog, exog, missing=missing,\n\u001b[0m\u001b[0;32m    873\u001b[0m                                   hasconst=hasconst, **kwargs)\n\u001b[0;32m    874\u001b[0m         \u001b[1;32mif\u001b[0m \u001b[1;34m\"weights\"\u001b[0m \u001b[1;32min\u001b[0m \u001b[0mself\u001b[0m\u001b[1;33m.\u001b[0m\u001b[0m_init_keys\u001b[0m\u001b[1;33m:\u001b[0m\u001b[1;33m\u001b[0m\u001b[1;33m\u001b[0m\u001b[0m\n",
      "\u001b[1;32m~\\anaconda3\\lib\\site-packages\\statsmodels\\regression\\linear_model.py\u001b[0m in \u001b[0;36m__init__\u001b[1;34m(self, endog, exog, weights, missing, hasconst, **kwargs)\u001b[0m\n\u001b[0;32m    701\u001b[0m         \u001b[1;32melse\u001b[0m\u001b[1;33m:\u001b[0m\u001b[1;33m\u001b[0m\u001b[1;33m\u001b[0m\u001b[0m\n\u001b[0;32m    702\u001b[0m             \u001b[0mweights\u001b[0m \u001b[1;33m=\u001b[0m \u001b[0mweights\u001b[0m\u001b[1;33m.\u001b[0m\u001b[0msqueeze\u001b[0m\u001b[1;33m(\u001b[0m\u001b[1;33m)\u001b[0m\u001b[1;33m\u001b[0m\u001b[1;33m\u001b[0m\u001b[0m\n\u001b[1;32m--> 703\u001b[1;33m         super(WLS, self).__init__(endog, exog, missing=missing,\n\u001b[0m\u001b[0;32m    704\u001b[0m                                   weights=weights, hasconst=hasconst, **kwargs)\n\u001b[0;32m    705\u001b[0m         \u001b[0mnobs\u001b[0m \u001b[1;33m=\u001b[0m \u001b[0mself\u001b[0m\u001b[1;33m.\u001b[0m\u001b[0mexog\u001b[0m\u001b[1;33m.\u001b[0m\u001b[0mshape\u001b[0m\u001b[1;33m[\u001b[0m\u001b[1;36m0\u001b[0m\u001b[1;33m]\u001b[0m\u001b[1;33m\u001b[0m\u001b[1;33m\u001b[0m\u001b[0m\n",
      "\u001b[1;32m~\\anaconda3\\lib\\site-packages\\statsmodels\\regression\\linear_model.py\u001b[0m in \u001b[0;36m__init__\u001b[1;34m(self, endog, exog, **kwargs)\u001b[0m\n\u001b[0;32m    188\u001b[0m     \"\"\"\n\u001b[0;32m    189\u001b[0m     \u001b[1;32mdef\u001b[0m \u001b[0m__init__\u001b[0m\u001b[1;33m(\u001b[0m\u001b[0mself\u001b[0m\u001b[1;33m,\u001b[0m \u001b[0mendog\u001b[0m\u001b[1;33m,\u001b[0m \u001b[0mexog\u001b[0m\u001b[1;33m,\u001b[0m \u001b[1;33m**\u001b[0m\u001b[0mkwargs\u001b[0m\u001b[1;33m)\u001b[0m\u001b[1;33m:\u001b[0m\u001b[1;33m\u001b[0m\u001b[1;33m\u001b[0m\u001b[0m\n\u001b[1;32m--> 190\u001b[1;33m         \u001b[0msuper\u001b[0m\u001b[1;33m(\u001b[0m\u001b[0mRegressionModel\u001b[0m\u001b[1;33m,\u001b[0m \u001b[0mself\u001b[0m\u001b[1;33m)\u001b[0m\u001b[1;33m.\u001b[0m\u001b[0m__init__\u001b[0m\u001b[1;33m(\u001b[0m\u001b[0mendog\u001b[0m\u001b[1;33m,\u001b[0m \u001b[0mexog\u001b[0m\u001b[1;33m,\u001b[0m \u001b[1;33m**\u001b[0m\u001b[0mkwargs\u001b[0m\u001b[1;33m)\u001b[0m\u001b[1;33m\u001b[0m\u001b[1;33m\u001b[0m\u001b[0m\n\u001b[0m\u001b[0;32m    191\u001b[0m         \u001b[0mself\u001b[0m\u001b[1;33m.\u001b[0m\u001b[0m_data_attr\u001b[0m\u001b[1;33m.\u001b[0m\u001b[0mextend\u001b[0m\u001b[1;33m(\u001b[0m\u001b[1;33m[\u001b[0m\u001b[1;34m'pinv_wexog'\u001b[0m\u001b[1;33m,\u001b[0m \u001b[1;34m'weights'\u001b[0m\u001b[1;33m]\u001b[0m\u001b[1;33m)\u001b[0m\u001b[1;33m\u001b[0m\u001b[1;33m\u001b[0m\u001b[0m\n\u001b[0;32m    192\u001b[0m \u001b[1;33m\u001b[0m\u001b[0m\n",
      "\u001b[1;32m~\\anaconda3\\lib\\site-packages\\statsmodels\\base\\model.py\u001b[0m in \u001b[0;36m__init__\u001b[1;34m(self, endog, exog, **kwargs)\u001b[0m\n\u001b[0;32m    235\u001b[0m \u001b[1;33m\u001b[0m\u001b[0m\n\u001b[0;32m    236\u001b[0m     \u001b[1;32mdef\u001b[0m \u001b[0m__init__\u001b[0m\u001b[1;33m(\u001b[0m\u001b[0mself\u001b[0m\u001b[1;33m,\u001b[0m \u001b[0mendog\u001b[0m\u001b[1;33m,\u001b[0m \u001b[0mexog\u001b[0m\u001b[1;33m=\u001b[0m\u001b[1;32mNone\u001b[0m\u001b[1;33m,\u001b[0m \u001b[1;33m**\u001b[0m\u001b[0mkwargs\u001b[0m\u001b[1;33m)\u001b[0m\u001b[1;33m:\u001b[0m\u001b[1;33m\u001b[0m\u001b[1;33m\u001b[0m\u001b[0m\n\u001b[1;32m--> 237\u001b[1;33m         \u001b[0msuper\u001b[0m\u001b[1;33m(\u001b[0m\u001b[0mLikelihoodModel\u001b[0m\u001b[1;33m,\u001b[0m \u001b[0mself\u001b[0m\u001b[1;33m)\u001b[0m\u001b[1;33m.\u001b[0m\u001b[0m__init__\u001b[0m\u001b[1;33m(\u001b[0m\u001b[0mendog\u001b[0m\u001b[1;33m,\u001b[0m \u001b[0mexog\u001b[0m\u001b[1;33m,\u001b[0m \u001b[1;33m**\u001b[0m\u001b[0mkwargs\u001b[0m\u001b[1;33m)\u001b[0m\u001b[1;33m\u001b[0m\u001b[1;33m\u001b[0m\u001b[0m\n\u001b[0m\u001b[0;32m    238\u001b[0m         \u001b[0mself\u001b[0m\u001b[1;33m.\u001b[0m\u001b[0minitialize\u001b[0m\u001b[1;33m(\u001b[0m\u001b[1;33m)\u001b[0m\u001b[1;33m\u001b[0m\u001b[1;33m\u001b[0m\u001b[0m\n\u001b[0;32m    239\u001b[0m \u001b[1;33m\u001b[0m\u001b[0m\n",
      "\u001b[1;32m~\\anaconda3\\lib\\site-packages\\statsmodels\\base\\model.py\u001b[0m in \u001b[0;36m__init__\u001b[1;34m(self, endog, exog, **kwargs)\u001b[0m\n\u001b[0;32m     75\u001b[0m         \u001b[0mmissing\u001b[0m \u001b[1;33m=\u001b[0m \u001b[0mkwargs\u001b[0m\u001b[1;33m.\u001b[0m\u001b[0mpop\u001b[0m\u001b[1;33m(\u001b[0m\u001b[1;34m'missing'\u001b[0m\u001b[1;33m,\u001b[0m \u001b[1;34m'none'\u001b[0m\u001b[1;33m)\u001b[0m\u001b[1;33m\u001b[0m\u001b[1;33m\u001b[0m\u001b[0m\n\u001b[0;32m     76\u001b[0m         \u001b[0mhasconst\u001b[0m \u001b[1;33m=\u001b[0m \u001b[0mkwargs\u001b[0m\u001b[1;33m.\u001b[0m\u001b[0mpop\u001b[0m\u001b[1;33m(\u001b[0m\u001b[1;34m'hasconst'\u001b[0m\u001b[1;33m,\u001b[0m \u001b[1;32mNone\u001b[0m\u001b[1;33m)\u001b[0m\u001b[1;33m\u001b[0m\u001b[1;33m\u001b[0m\u001b[0m\n\u001b[1;32m---> 77\u001b[1;33m         self.data = self._handle_data(endog, exog, missing, hasconst,\n\u001b[0m\u001b[0;32m     78\u001b[0m                                       **kwargs)\n\u001b[0;32m     79\u001b[0m         \u001b[0mself\u001b[0m\u001b[1;33m.\u001b[0m\u001b[0mk_constant\u001b[0m \u001b[1;33m=\u001b[0m \u001b[0mself\u001b[0m\u001b[1;33m.\u001b[0m\u001b[0mdata\u001b[0m\u001b[1;33m.\u001b[0m\u001b[0mk_constant\u001b[0m\u001b[1;33m\u001b[0m\u001b[1;33m\u001b[0m\u001b[0m\n",
      "\u001b[1;32m~\\anaconda3\\lib\\site-packages\\statsmodels\\base\\model.py\u001b[0m in \u001b[0;36m_handle_data\u001b[1;34m(self, endog, exog, missing, hasconst, **kwargs)\u001b[0m\n\u001b[0;32m     99\u001b[0m \u001b[1;33m\u001b[0m\u001b[0m\n\u001b[0;32m    100\u001b[0m     \u001b[1;32mdef\u001b[0m \u001b[0m_handle_data\u001b[0m\u001b[1;33m(\u001b[0m\u001b[0mself\u001b[0m\u001b[1;33m,\u001b[0m \u001b[0mendog\u001b[0m\u001b[1;33m,\u001b[0m \u001b[0mexog\u001b[0m\u001b[1;33m,\u001b[0m \u001b[0mmissing\u001b[0m\u001b[1;33m,\u001b[0m \u001b[0mhasconst\u001b[0m\u001b[1;33m,\u001b[0m \u001b[1;33m**\u001b[0m\u001b[0mkwargs\u001b[0m\u001b[1;33m)\u001b[0m\u001b[1;33m:\u001b[0m\u001b[1;33m\u001b[0m\u001b[1;33m\u001b[0m\u001b[0m\n\u001b[1;32m--> 101\u001b[1;33m         \u001b[0mdata\u001b[0m \u001b[1;33m=\u001b[0m \u001b[0mhandle_data\u001b[0m\u001b[1;33m(\u001b[0m\u001b[0mendog\u001b[0m\u001b[1;33m,\u001b[0m \u001b[0mexog\u001b[0m\u001b[1;33m,\u001b[0m \u001b[0mmissing\u001b[0m\u001b[1;33m,\u001b[0m \u001b[0mhasconst\u001b[0m\u001b[1;33m,\u001b[0m \u001b[1;33m**\u001b[0m\u001b[0mkwargs\u001b[0m\u001b[1;33m)\u001b[0m\u001b[1;33m\u001b[0m\u001b[1;33m\u001b[0m\u001b[0m\n\u001b[0m\u001b[0;32m    102\u001b[0m         \u001b[1;31m# kwargs arrays could have changed, easier to just attach here\u001b[0m\u001b[1;33m\u001b[0m\u001b[1;33m\u001b[0m\u001b[1;33m\u001b[0m\u001b[0m\n\u001b[0;32m    103\u001b[0m         \u001b[1;32mfor\u001b[0m \u001b[0mkey\u001b[0m \u001b[1;32min\u001b[0m \u001b[0mkwargs\u001b[0m\u001b[1;33m:\u001b[0m\u001b[1;33m\u001b[0m\u001b[1;33m\u001b[0m\u001b[0m\n",
      "\u001b[1;32m~\\anaconda3\\lib\\site-packages\\statsmodels\\base\\data.py\u001b[0m in \u001b[0;36mhandle_data\u001b[1;34m(endog, exog, missing, hasconst, **kwargs)\u001b[0m\n\u001b[0;32m    670\u001b[0m \u001b[1;33m\u001b[0m\u001b[0m\n\u001b[0;32m    671\u001b[0m     \u001b[0mklass\u001b[0m \u001b[1;33m=\u001b[0m \u001b[0mhandle_data_class_factory\u001b[0m\u001b[1;33m(\u001b[0m\u001b[0mendog\u001b[0m\u001b[1;33m,\u001b[0m \u001b[0mexog\u001b[0m\u001b[1;33m)\u001b[0m\u001b[1;33m\u001b[0m\u001b[1;33m\u001b[0m\u001b[0m\n\u001b[1;32m--> 672\u001b[1;33m     return klass(endog, exog=exog, missing=missing, hasconst=hasconst,\n\u001b[0m\u001b[0;32m    673\u001b[0m                  **kwargs)\n",
      "\u001b[1;32m~\\anaconda3\\lib\\site-packages\\statsmodels\\base\\data.py\u001b[0m in \u001b[0;36m__init__\u001b[1;34m(self, endog, exog, missing, hasconst, **kwargs)\u001b[0m\n\u001b[0;32m     85\u001b[0m         \u001b[0mself\u001b[0m\u001b[1;33m.\u001b[0m\u001b[0mconst_idx\u001b[0m \u001b[1;33m=\u001b[0m \u001b[1;32mNone\u001b[0m\u001b[1;33m\u001b[0m\u001b[1;33m\u001b[0m\u001b[0m\n\u001b[0;32m     86\u001b[0m         \u001b[0mself\u001b[0m\u001b[1;33m.\u001b[0m\u001b[0mk_constant\u001b[0m \u001b[1;33m=\u001b[0m \u001b[1;36m0\u001b[0m\u001b[1;33m\u001b[0m\u001b[1;33m\u001b[0m\u001b[0m\n\u001b[1;32m---> 87\u001b[1;33m         \u001b[0mself\u001b[0m\u001b[1;33m.\u001b[0m\u001b[0m_handle_constant\u001b[0m\u001b[1;33m(\u001b[0m\u001b[0mhasconst\u001b[0m\u001b[1;33m)\u001b[0m\u001b[1;33m\u001b[0m\u001b[1;33m\u001b[0m\u001b[0m\n\u001b[0m\u001b[0;32m     88\u001b[0m         \u001b[0mself\u001b[0m\u001b[1;33m.\u001b[0m\u001b[0m_check_integrity\u001b[0m\u001b[1;33m(\u001b[0m\u001b[1;33m)\u001b[0m\u001b[1;33m\u001b[0m\u001b[1;33m\u001b[0m\u001b[0m\n\u001b[0;32m     89\u001b[0m         \u001b[0mself\u001b[0m\u001b[1;33m.\u001b[0m\u001b[0m_cache\u001b[0m \u001b[1;33m=\u001b[0m \u001b[1;33m{\u001b[0m\u001b[1;33m}\u001b[0m\u001b[1;33m\u001b[0m\u001b[1;33m\u001b[0m\u001b[0m\n",
      "\u001b[1;32m~\\anaconda3\\lib\\site-packages\\statsmodels\\base\\data.py\u001b[0m in \u001b[0;36m_handle_constant\u001b[1;34m(self, hasconst)\u001b[0m\n\u001b[0;32m    130\u001b[0m             \u001b[0mcheck_implicit\u001b[0m \u001b[1;33m=\u001b[0m \u001b[1;32mFalse\u001b[0m\u001b[1;33m\u001b[0m\u001b[1;33m\u001b[0m\u001b[0m\n\u001b[0;32m    131\u001b[0m             \u001b[0mexog_max\u001b[0m \u001b[1;33m=\u001b[0m \u001b[0mnp\u001b[0m\u001b[1;33m.\u001b[0m\u001b[0mmax\u001b[0m\u001b[1;33m(\u001b[0m\u001b[0mself\u001b[0m\u001b[1;33m.\u001b[0m\u001b[0mexog\u001b[0m\u001b[1;33m,\u001b[0m \u001b[0maxis\u001b[0m\u001b[1;33m=\u001b[0m\u001b[1;36m0\u001b[0m\u001b[1;33m)\u001b[0m\u001b[1;33m\u001b[0m\u001b[1;33m\u001b[0m\u001b[0m\n\u001b[1;32m--> 132\u001b[1;33m             \u001b[1;32mif\u001b[0m \u001b[1;32mnot\u001b[0m \u001b[0mnp\u001b[0m\u001b[1;33m.\u001b[0m\u001b[0misfinite\u001b[0m\u001b[1;33m(\u001b[0m\u001b[0mexog_max\u001b[0m\u001b[1;33m)\u001b[0m\u001b[1;33m.\u001b[0m\u001b[0mall\u001b[0m\u001b[1;33m(\u001b[0m\u001b[1;33m)\u001b[0m\u001b[1;33m:\u001b[0m\u001b[1;33m\u001b[0m\u001b[1;33m\u001b[0m\u001b[0m\n\u001b[0m\u001b[0;32m    133\u001b[0m                 \u001b[1;32mraise\u001b[0m \u001b[0mMissingDataError\u001b[0m\u001b[1;33m(\u001b[0m\u001b[1;34m'exog contains inf or nans'\u001b[0m\u001b[1;33m)\u001b[0m\u001b[1;33m\u001b[0m\u001b[1;33m\u001b[0m\u001b[0m\n\u001b[0;32m    134\u001b[0m             \u001b[0mexog_min\u001b[0m \u001b[1;33m=\u001b[0m \u001b[0mnp\u001b[0m\u001b[1;33m.\u001b[0m\u001b[0mmin\u001b[0m\u001b[1;33m(\u001b[0m\u001b[0mself\u001b[0m\u001b[1;33m.\u001b[0m\u001b[0mexog\u001b[0m\u001b[1;33m,\u001b[0m \u001b[0maxis\u001b[0m\u001b[1;33m=\u001b[0m\u001b[1;36m0\u001b[0m\u001b[1;33m)\u001b[0m\u001b[1;33m\u001b[0m\u001b[1;33m\u001b[0m\u001b[0m\n",
      "\u001b[1;31mTypeError\u001b[0m: ufunc 'isfinite' not supported for the input types, and the inputs could not be safely coerced to any supported types according to the casting rule ''safe''"
     ]
    }
   ],
   "source": [
    "clean_df = drop_high_vif_columns(unclean_df)\n",
    "\n",
    "calc_vif(clean_df)"
   ]
  },
  {
   "cell_type": "markdown",
   "id": "a2c5b150",
   "metadata": {},
   "source": [
    "# Machine Learning Modeling  "
   ]
  },
  {
   "cell_type": "code",
   "execution_count": 50,
   "id": "dcb9808b",
   "metadata": {},
   "outputs": [],
   "source": [
    "import xgboost as xgb\n",
    "import catboost as cb"
   ]
  },
  {
   "cell_type": "code",
   "execution_count": 56,
   "id": "64b86dd4",
   "metadata": {},
   "outputs": [],
   "source": [
    "from sklearn.model_selection import train_test_split,cross_val_score,ShuffleSplit\n",
    "from sklearn.metrics import classification_report,confusion_matrix,accuracy_score\n",
    "from sklearn.linear_model import LogisticRegression\n",
    "from sklearn.tree import DecisionTreeClassifier\n",
    "from sklearn.ensemble import RandomForestClassifier,GradientBoostingClassifier,AdaBoostClassifier\n",
    "from sklearn.svm import SVC\n",
    "from xgboost import XGBClassifier\n",
    "from catboost import CatBoostClassifier\n",
    "from sklearn.neighbors import KNeighborsClassifier"
   ]
  },
  {
   "cell_type": "code",
   "execution_count": 53,
   "id": "97380030",
   "metadata": {},
   "outputs": [
    {
     "data": {
      "text/html": [
       "<div>\n",
       "<style scoped>\n",
       "    .dataframe tbody tr th:only-of-type {\n",
       "        vertical-align: middle;\n",
       "    }\n",
       "\n",
       "    .dataframe tbody tr th {\n",
       "        vertical-align: top;\n",
       "    }\n",
       "\n",
       "    .dataframe thead th {\n",
       "        text-align: right;\n",
       "    }\n",
       "</style>\n",
       "<table border=\"1\" class=\"dataframe\">\n",
       "  <thead>\n",
       "    <tr style=\"text-align: right;\">\n",
       "      <th></th>\n",
       "      <th>gender</th>\n",
       "      <th>age</th>\n",
       "      <th>occupation</th>\n",
       "      <th>sleep_duration</th>\n",
       "      <th>quality_of_sleep</th>\n",
       "      <th>physical_activity_level</th>\n",
       "      <th>stress_level</th>\n",
       "      <th>systolic_pressure</th>\n",
       "      <th>distolic_pressure</th>\n",
       "      <th>blood_pressure_level</th>\n",
       "      <th>bmi_category</th>\n",
       "      <th>heart_rate</th>\n",
       "      <th>daily_steps</th>\n",
       "      <th>sleep_disorder</th>\n",
       "    </tr>\n",
       "    <tr>\n",
       "      <th>person_id</th>\n",
       "      <th></th>\n",
       "      <th></th>\n",
       "      <th></th>\n",
       "      <th></th>\n",
       "      <th></th>\n",
       "      <th></th>\n",
       "      <th></th>\n",
       "      <th></th>\n",
       "      <th></th>\n",
       "      <th></th>\n",
       "      <th></th>\n",
       "      <th></th>\n",
       "      <th></th>\n",
       "      <th></th>\n",
       "    </tr>\n",
       "  </thead>\n",
       "  <tbody>\n",
       "    <tr>\n",
       "      <th>257</th>\n",
       "      <td>0</td>\n",
       "      <td>45</td>\n",
       "      <td>10</td>\n",
       "      <td>6.6</td>\n",
       "      <td>7</td>\n",
       "      <td>45</td>\n",
       "      <td>4</td>\n",
       "      <td>135</td>\n",
       "      <td>90</td>\n",
       "      <td>1</td>\n",
       "      <td>3</td>\n",
       "      <td>65</td>\n",
       "      <td>6000</td>\n",
       "      <td>0</td>\n",
       "    </tr>\n",
       "    <tr>\n",
       "      <th>127</th>\n",
       "      <td>1</td>\n",
       "      <td>38</td>\n",
       "      <td>3</td>\n",
       "      <td>7.3</td>\n",
       "      <td>8</td>\n",
       "      <td>60</td>\n",
       "      <td>5</td>\n",
       "      <td>130</td>\n",
       "      <td>85</td>\n",
       "      <td>1</td>\n",
       "      <td>0</td>\n",
       "      <td>68</td>\n",
       "      <td>8000</td>\n",
       "      <td>1</td>\n",
       "    </tr>\n",
       "    <tr>\n",
       "      <th>342</th>\n",
       "      <td>0</td>\n",
       "      <td>56</td>\n",
       "      <td>1</td>\n",
       "      <td>8.2</td>\n",
       "      <td>9</td>\n",
       "      <td>90</td>\n",
       "      <td>3</td>\n",
       "      <td>118</td>\n",
       "      <td>75</td>\n",
       "      <td>3</td>\n",
       "      <td>1</td>\n",
       "      <td>65</td>\n",
       "      <td>10000</td>\n",
       "      <td>1</td>\n",
       "    </tr>\n",
       "    <tr>\n",
       "      <th>268</th>\n",
       "      <td>0</td>\n",
       "      <td>49</td>\n",
       "      <td>5</td>\n",
       "      <td>6.2</td>\n",
       "      <td>6</td>\n",
       "      <td>90</td>\n",
       "      <td>8</td>\n",
       "      <td>140</td>\n",
       "      <td>95</td>\n",
       "      <td>2</td>\n",
       "      <td>3</td>\n",
       "      <td>75</td>\n",
       "      <td>10000</td>\n",
       "      <td>1</td>\n",
       "    </tr>\n",
       "    <tr>\n",
       "      <th>175</th>\n",
       "      <td>1</td>\n",
       "      <td>41</td>\n",
       "      <td>3</td>\n",
       "      <td>7.6</td>\n",
       "      <td>8</td>\n",
       "      <td>90</td>\n",
       "      <td>5</td>\n",
       "      <td>130</td>\n",
       "      <td>85</td>\n",
       "      <td>1</td>\n",
       "      <td>0</td>\n",
       "      <td>70</td>\n",
       "      <td>8000</td>\n",
       "      <td>1</td>\n",
       "    </tr>\n",
       "    <tr>\n",
       "      <th>104</th>\n",
       "      <td>1</td>\n",
       "      <td>36</td>\n",
       "      <td>10</td>\n",
       "      <td>6.6</td>\n",
       "      <td>5</td>\n",
       "      <td>35</td>\n",
       "      <td>7</td>\n",
       "      <td>129</td>\n",
       "      <td>84</td>\n",
       "      <td>1</td>\n",
       "      <td>3</td>\n",
       "      <td>74</td>\n",
       "      <td>4800</td>\n",
       "      <td>2</td>\n",
       "    </tr>\n",
       "    <tr>\n",
       "      <th>34</th>\n",
       "      <td>1</td>\n",
       "      <td>31</td>\n",
       "      <td>1</td>\n",
       "      <td>6.1</td>\n",
       "      <td>6</td>\n",
       "      <td>30</td>\n",
       "      <td>8</td>\n",
       "      <td>125</td>\n",
       "      <td>80</td>\n",
       "      <td>1</td>\n",
       "      <td>0</td>\n",
       "      <td>72</td>\n",
       "      <td>5000</td>\n",
       "      <td>1</td>\n",
       "    </tr>\n",
       "    <tr>\n",
       "      <th>147</th>\n",
       "      <td>1</td>\n",
       "      <td>39</td>\n",
       "      <td>3</td>\n",
       "      <td>7.2</td>\n",
       "      <td>8</td>\n",
       "      <td>60</td>\n",
       "      <td>5</td>\n",
       "      <td>130</td>\n",
       "      <td>85</td>\n",
       "      <td>1</td>\n",
       "      <td>0</td>\n",
       "      <td>68</td>\n",
       "      <td>8000</td>\n",
       "      <td>0</td>\n",
       "    </tr>\n",
       "    <tr>\n",
       "      <th>51</th>\n",
       "      <td>1</td>\n",
       "      <td>32</td>\n",
       "      <td>2</td>\n",
       "      <td>7.5</td>\n",
       "      <td>8</td>\n",
       "      <td>45</td>\n",
       "      <td>3</td>\n",
       "      <td>120</td>\n",
       "      <td>80</td>\n",
       "      <td>1</td>\n",
       "      <td>0</td>\n",
       "      <td>70</td>\n",
       "      <td>8000</td>\n",
       "      <td>1</td>\n",
       "    </tr>\n",
       "    <tr>\n",
       "      <th>57</th>\n",
       "      <td>1</td>\n",
       "      <td>32</td>\n",
       "      <td>1</td>\n",
       "      <td>7.7</td>\n",
       "      <td>7</td>\n",
       "      <td>75</td>\n",
       "      <td>6</td>\n",
       "      <td>120</td>\n",
       "      <td>80</td>\n",
       "      <td>1</td>\n",
       "      <td>0</td>\n",
       "      <td>70</td>\n",
       "      <td>8000</td>\n",
       "      <td>1</td>\n",
       "    </tr>\n",
       "  </tbody>\n",
       "</table>\n",
       "</div>"
      ],
      "text/plain": [
       "           gender  age  occupation  sleep_duration  quality_of_sleep  \\\n",
       "person_id                                                              \n",
       "257             0   45          10             6.6                 7   \n",
       "127             1   38           3             7.3                 8   \n",
       "342             0   56           1             8.2                 9   \n",
       "268             0   49           5             6.2                 6   \n",
       "175             1   41           3             7.6                 8   \n",
       "104             1   36          10             6.6                 5   \n",
       "34              1   31           1             6.1                 6   \n",
       "147             1   39           3             7.2                 8   \n",
       "51              1   32           2             7.5                 8   \n",
       "57              1   32           1             7.7                 7   \n",
       "\n",
       "           physical_activity_level  stress_level  systolic_pressure  \\\n",
       "person_id                                                             \n",
       "257                             45             4                135   \n",
       "127                             60             5                130   \n",
       "342                             90             3                118   \n",
       "268                             90             8                140   \n",
       "175                             90             5                130   \n",
       "104                             35             7                129   \n",
       "34                              30             8                125   \n",
       "147                             60             5                130   \n",
       "51                              45             3                120   \n",
       "57                              75             6                120   \n",
       "\n",
       "           distolic_pressure  blood_pressure_level  bmi_category  heart_rate  \\\n",
       "person_id                                                                      \n",
       "257                       90                     1             3          65   \n",
       "127                       85                     1             0          68   \n",
       "342                       75                     3             1          65   \n",
       "268                       95                     2             3          75   \n",
       "175                       85                     1             0          70   \n",
       "104                       84                     1             3          74   \n",
       "34                        80                     1             0          72   \n",
       "147                       85                     1             0          68   \n",
       "51                        80                     1             0          70   \n",
       "57                        80                     1             0          70   \n",
       "\n",
       "           daily_steps  sleep_disorder  \n",
       "person_id                               \n",
       "257               6000               0  \n",
       "127               8000               1  \n",
       "342              10000               1  \n",
       "268              10000               1  \n",
       "175               8000               1  \n",
       "104               4800               2  \n",
       "34                5000               1  \n",
       "147               8000               0  \n",
       "51                8000               1  \n",
       "57                8000               1  "
      ]
     },
     "execution_count": 53,
     "metadata": {},
     "output_type": "execute_result"
    }
   ],
   "source": [
    "data.sample(10)"
   ]
  },
  {
   "cell_type": "markdown",
   "id": "dd41e456",
   "metadata": {},
   "source": [
    "#### TrainIng, Testing and Splitting"
   ]
  },
  {
   "cell_type": "code",
   "execution_count": 64,
   "id": "985d0528",
   "metadata": {},
   "outputs": [],
   "source": [
    "# Divided into the data into dependent and independent variables\n",
    "X=data.drop('sleep_disorder',axis=1)\n",
    "y=data['sleep_disorder']\n",
    "#Scaling the values\n",
    "scaler=MinMaxScaler()\n",
    "scaler.fit(X)\n",
    "X=scaler.fit_transform(X)"
   ]
  },
  {
   "cell_type": "code",
   "execution_count": 67,
   "id": "adeb4bd9",
   "metadata": {},
   "outputs": [
    {
     "name": "stdout",
     "output_type": "stream",
     "text": [
      "The shape of X is (132, 13)\n",
      "\n",
      "The shape of y is (132,)\n",
      "\n"
     ]
    }
   ],
   "source": [
    "print(f\"The shape of X is {X.shape}\\n\")\n",
    "\n",
    "print(f\"The shape of y is {y.shape}\\n\")\n"
   ]
  },
  {
   "cell_type": "code",
   "execution_count": 68,
   "id": "c606e73c",
   "metadata": {},
   "outputs": [
    {
     "name": "stdout",
     "output_type": "stream",
     "text": [
      "The shape of X_train is (92, 13)\n",
      "\n",
      "The shape of X_test is (40, 13)\n",
      "\n",
      "The shape of y_train is (92,)\n",
      "\n",
      "The shape of y_test is (40,)\n",
      "\n"
     ]
    }
   ],
   "source": [
    "# spliting the data into training and test data\n",
    "X_train, X_test, y_train, y_test = train_test_split(X, y, test_size = 0.30, random_state = 200)\n",
    "\n",
    "print(f\"The shape of X_train is {X_train.shape}\\n\")\n",
    "print(f\"The shape of X_test is {X_test.shape}\\n\")\n",
    "print(f\"The shape of y_train is {y_train.shape}\\n\")\n",
    "print(f\"The shape of y_test is {y_test.shape}\\n\")"
   ]
  },
  {
   "cell_type": "code",
   "execution_count": 69,
   "id": "c65c5a80",
   "metadata": {},
   "outputs": [
    {
     "name": "stdout",
     "output_type": "stream",
     "text": [
      "The shape of X_resampled is (157, 13)\n",
      "\n",
      "The shape of y_resampled is (157,)\n",
      "\n"
     ]
    }
   ],
   "source": [
    "# Balancing the class weights with SMOTETomek Procedure\n",
    " # importing the libraries and models for class balancing\n",
    "from imblearn.combine import SMOTETomek\n",
    "# Instantiate SMOTETomek\n",
    "smote_tomek = SMOTETomek(random_state=42)\n",
    "\n",
    "# Apply SMOTETomek to the training data\n",
    "X_resampled, y_resampled = smote_tomek.fit_resample(X_train, y_train)\n",
    "\n",
    "print(f\"The shape of X_resampled is {X_resampled.shape}\\n\")\n",
    "\n",
    "print(f\"The shape of y_resampled is {y_resampled.shape}\\n\")"
   ]
  },
  {
   "cell_type": "markdown",
   "id": "6e0ad256",
   "metadata": {},
   "source": [
    "### Logistic Regression Model"
   ]
  },
  {
   "cell_type": "code",
   "execution_count": 71,
   "id": "915c2ca7",
   "metadata": {},
   "outputs": [
    {
     "data": {
      "text/plain": [
       "0.7643312101910829"
      ]
     },
     "execution_count": 71,
     "metadata": {},
     "output_type": "execute_result"
    }
   ],
   "source": [
    "# Model Training Using Logistic Regression \n",
    "lr = LogisticRegression()\n",
    "lr.fit(X_resampled, y_resampled)\n",
    "lr.score(X_resampled, y_resampled)"
   ]
  },
  {
   "cell_type": "code",
   "execution_count": 72,
   "id": "92a25855",
   "metadata": {},
   "outputs": [
    {
     "name": "stdout",
     "output_type": "stream",
     "text": [
      "Accuracy score of Logistic Regression: 0.675\n",
      "\n",
      "Accuracy score of Logistic Regression:\n",
      "               precision    recall  f1-score   support\n",
      "\n",
      "           0       0.50      0.40      0.44        10\n",
      "           1       0.70      0.82      0.76        17\n",
      "           2       0.75      0.69      0.72        13\n",
      "\n",
      "    accuracy                           0.68        40\n",
      "   macro avg       0.65      0.64      0.64        40\n",
      "weighted avg       0.67      0.68      0.67        40\n",
      "\n",
      "\n",
      "Accuracy score of Logistic Regression:\n",
      " [[ 4  5  1]\n",
      " [ 1 14  2]\n",
      " [ 3  1  9]]\n",
      "\n"
     ]
    }
   ],
   "source": [
    "# Model Score\n",
    "y_pred = lr.predict(X_test)\n",
    "print(f\"Accuracy score of Logistic Regression: {accuracy_score(y_pred, y_test)}\\n\")\n",
    "print(f\"Accuracy score of Logistic Regression:\\n {classification_report(y_pred, y_test)}\\n\")\n",
    "print(f\"Accuracy score of Logistic Regression:\\n {confusion_matrix(y_pred, y_test)}\\n\")"
   ]
  },
  {
   "cell_type": "markdown",
   "id": "5c07d709",
   "metadata": {},
   "source": [
    "#### Function to iterate, train and test the other models"
   ]
  },
  {
   "cell_type": "code",
   "execution_count": 74,
   "id": "e6562240",
   "metadata": {},
   "outputs": [],
   "source": [
    "def evaluate_classification_models(X, y):\n",
    "    # Split the data into training and testing sets\n",
    "    X_train,X_test,y_train,y_test=train_test_split(X,y,test_size=0.30,random_state=200)\n",
    "    \n",
    "    # importing the libraries and models for class balancing\n",
    "    from imblearn.combine import SMOTETomek\n",
    "    # Instantiate SMOTETomek\n",
    "    smote_tomek = SMOTETomek(random_state=42)\n",
    "\n",
    "    # Apply SMOTETomek to the training data\n",
    "    X_resampled, y_resampled = smote_tomek.fit_resample(X_train, y_train)\n",
    "\n",
    "    # Initialize and fit the models\n",
    "    models = {\n",
    "        \"Decision Tree\": DecisionTreeClassifier(),\n",
    "        \"Random Forest\": RandomForestClassifier(),\n",
    "        \"XGBoost\": XGBClassifier(),\n",
    "        \"CatBoost\": CatBoostClassifier(verbose=0),\n",
    "        \"KNN\": KNeighborsClassifier(),\n",
    "        \"AdaBoost\": AdaBoostClassifier(),\n",
    "        \"Gradient Boosting\": GradientBoostingClassifier()\n",
    "    }\n",
    "\n",
    "    for model_name, model in models.items():\n",
    "        model.fit(X_resampled, y_resampled)\n",
    "        y_pred = model.predict(X_test)\n",
    "\n",
    "        print(f\"Model: {model_name}\\n\")\n",
    "\n",
    "        # Accuracy Score\n",
    "        accuracy = accuracy_score(y_test, y_pred)\n",
    "        print(f\"Accuracy Score: {accuracy:.2f}\\n\")\n",
    "\n",
    "        # Classification Report\n",
    "        report = classification_report(y_test, y_pred)\n",
    "        print(\"Classification Report:\\n\", report)\n",
    "\n",
    "        # Confusion Matrix\n",
    "        cm = confusion_matrix(y_test, y_pred)\n",
    "        print(\"Confusion Matrix:\\n\", cm)\n",
    "\n",
    "        print(\"=\" * 40)"
   ]
  },
  {
   "cell_type": "code",
   "execution_count": 75,
   "id": "1417edfb",
   "metadata": {},
   "outputs": [
    {
     "name": "stdout",
     "output_type": "stream",
     "text": [
      "Model: Decision Tree\n",
      "\n",
      "Accuracy Score: 0.53\n",
      "\n",
      "Classification Report:\n",
      "               precision    recall  f1-score   support\n",
      "\n",
      "           0       0.36      0.62      0.45         8\n",
      "           1       0.67      0.60      0.63        20\n",
      "           2       0.50      0.33      0.40        12\n",
      "\n",
      "    accuracy                           0.53        40\n",
      "   macro avg       0.51      0.52      0.50        40\n",
      "weighted avg       0.55      0.53      0.53        40\n",
      "\n",
      "Confusion Matrix:\n",
      " [[ 5  1  2]\n",
      " [ 6 12  2]\n",
      " [ 3  5  4]]\n",
      "========================================\n",
      "Model: Random Forest\n",
      "\n",
      "Accuracy Score: 0.68\n",
      "\n",
      "Classification Report:\n",
      "               precision    recall  f1-score   support\n",
      "\n",
      "           0       0.45      0.62      0.53         8\n",
      "           1       0.80      0.80      0.80        20\n",
      "           2       0.67      0.50      0.57        12\n",
      "\n",
      "    accuracy                           0.68        40\n",
      "   macro avg       0.64      0.64      0.63        40\n",
      "weighted avg       0.69      0.68      0.68        40\n",
      "\n",
      "Confusion Matrix:\n",
      " [[ 5  1  2]\n",
      " [ 3 16  1]\n",
      " [ 3  3  6]]\n",
      "========================================\n",
      "Model: XGBoost\n",
      "\n",
      "Accuracy Score: 0.65\n",
      "\n",
      "Classification Report:\n",
      "               precision    recall  f1-score   support\n",
      "\n",
      "           0       0.42      0.62      0.50         8\n",
      "           1       0.79      0.75      0.77        20\n",
      "           2       0.67      0.50      0.57        12\n",
      "\n",
      "    accuracy                           0.65        40\n",
      "   macro avg       0.62      0.62      0.61        40\n",
      "weighted avg       0.68      0.65      0.66        40\n",
      "\n",
      "Confusion Matrix:\n",
      " [[ 5  1  2]\n",
      " [ 4 15  1]\n",
      " [ 3  3  6]]\n",
      "========================================\n",
      "Model: CatBoost\n",
      "\n",
      "Accuracy Score: 0.62\n",
      "\n",
      "Classification Report:\n",
      "               precision    recall  f1-score   support\n",
      "\n",
      "           0       0.40      0.50      0.44         8\n",
      "           1       0.78      0.70      0.74        20\n",
      "           2       0.58      0.58      0.58        12\n",
      "\n",
      "    accuracy                           0.62        40\n",
      "   macro avg       0.59      0.59      0.59        40\n",
      "weighted avg       0.64      0.62      0.63        40\n",
      "\n",
      "Confusion Matrix:\n",
      " [[ 4  1  3]\n",
      " [ 4 14  2]\n",
      " [ 2  3  7]]\n",
      "========================================\n",
      "Model: KNN\n",
      "\n",
      "Accuracy Score: 0.57\n",
      "\n",
      "Classification Report:\n",
      "               precision    recall  f1-score   support\n",
      "\n",
      "           0       0.36      0.62      0.45         8\n",
      "           1       0.80      0.60      0.69        20\n",
      "           2       0.55      0.50      0.52        12\n",
      "\n",
      "    accuracy                           0.57        40\n",
      "   macro avg       0.57      0.58      0.55        40\n",
      "weighted avg       0.64      0.57      0.59        40\n",
      "\n",
      "Confusion Matrix:\n",
      " [[ 5  1  2]\n",
      " [ 5 12  3]\n",
      " [ 4  2  6]]\n",
      "========================================\n",
      "Model: AdaBoost\n",
      "\n",
      "Accuracy Score: 0.72\n",
      "\n",
      "Classification Report:\n",
      "               precision    recall  f1-score   support\n",
      "\n",
      "           0       0.50      0.50      0.50         8\n",
      "           1       0.84      0.80      0.82        20\n",
      "           2       0.69      0.75      0.72        12\n",
      "\n",
      "    accuracy                           0.73        40\n",
      "   macro avg       0.68      0.68      0.68        40\n",
      "weighted avg       0.73      0.72      0.73        40\n",
      "\n",
      "Confusion Matrix:\n",
      " [[ 4  1  3]\n",
      " [ 3 16  1]\n",
      " [ 1  2  9]]\n",
      "========================================\n",
      "Model: Gradient Boosting\n",
      "\n",
      "Accuracy Score: 0.62\n",
      "\n",
      "Classification Report:\n",
      "               precision    recall  f1-score   support\n",
      "\n",
      "           0       0.42      0.62      0.50         8\n",
      "           1       0.78      0.70      0.74        20\n",
      "           2       0.60      0.50      0.55        12\n",
      "\n",
      "    accuracy                           0.62        40\n",
      "   macro avg       0.60      0.61      0.59        40\n",
      "weighted avg       0.65      0.62      0.63        40\n",
      "\n",
      "Confusion Matrix:\n",
      " [[ 5  1  2]\n",
      " [ 4 14  2]\n",
      " [ 3  3  6]]\n",
      "========================================\n"
     ]
    }
   ],
   "source": [
    "if __name__ == \"__main__\":\n",
    "    # Divided into the data into dependent and independent variables\n",
    "    X=data.drop(['sleep_disorder'],axis=1)\n",
    "    y=data['sleep_disorder']\n",
    "    #Scaling the values\n",
    "    scaler=MinMaxScaler()\n",
    "    scaler.fit(X)\n",
    "    X=scaler.fit_transform(X)\n",
    "    evaluate_classification_models(X, y)"
   ]
  },
  {
   "cell_type": "markdown",
   "id": "f810b84d",
   "metadata": {},
   "source": [
    "Based on the performance metrics presented earlier, it's evident that AdaBoost outperforms the other models. As a result, for the purpose of model refinement, we will leverage the AdaBoost model to enhance its efficiency."
   ]
  },
  {
   "cell_type": "markdown",
   "id": "eb1d70dd",
   "metadata": {},
   "source": [
    "### Feature Importance and Plot"
   ]
  },
  {
   "cell_type": "code",
   "execution_count": 82,
   "id": "bbd5081a",
   "metadata": {},
   "outputs": [
    {
     "data": {
      "image/png": "[encoded data removed]",
      "text/plain": [
       "<Figure size 720x432 with 1 Axes>"
      ]
     },
     "metadata": {
      "needs_background": "light"
     },
     "output_type": "display_data"
    }
   ],
   "source": [
    "# Fit your model (RandomForestClassifier in this example)\n",
    "model = AdaBoostClassifier()\n",
    "model.fit(X, y)\n",
    "\n",
    "# Get feature importances\n",
    "importances = model.feature_importances_\n",
    "\n",
    "# Get feature names (assuming X is a pandas DataFrame or you have a list of feature names)\n",
    "feature_names = data.columns.to_list() \n",
    "\n",
    "# Sort feature importances in descending order\n",
    "indices = np.argsort(importances)[::-1]\n",
    "\n",
    "# Rearrange feature names based on sorted indices\n",
    "sorted_feature_names = [feature_names[i] for i in indices]\n",
    "\n",
    "# Sort the importances in descending order\n",
    "sorted_importances = importances[indices]\n",
    "\n",
    "# Convert importances to percentages\n",
    "sorted_importances_percentage = sorted_importances * 100\n",
    "\n",
    "# Create a horizontal bar plot\n",
    "plt.figure(figsize=(10, 6))\n",
    "plt.barh(range(len(sorted_importances)), sorted_importances_percentage, align='center')\n",
    "plt.yticks(range(len(sorted_importances)), sorted_feature_names)\n",
    "plt.xlabel('Feature Importance (%)')\n",
    "plt.title('Feature Importance in Descending Order')\n",
    "plt.gca().invert_yaxis()  # Invert the y-axis for better visualization\n",
    "plt.show()\n"
   ]
  },
  {
   "cell_type": "markdown",
   "id": "737885a1",
   "metadata": {},
   "source": [
    "From the above, its worth mentioning that only 7 of all the features contribute 100% to the type of sleeping disorder. Thus we'll drop the rest of the features if the SHAP Analysis afirms this observation."
   ]
  },
  {
   "cell_type": "markdown",
   "id": "53378c1e",
   "metadata": {},
   "source": [
    "### SHAP Analysis"
   ]
  },
  {
   "cell_type": "code",
   "execution_count": null,
   "id": "1990b337",
   "metadata": {},
   "outputs": [],
   "source": [
    "import shap\n",
    "# Initialize and fit the AdaBoost model (replace with your model)\n",
    "model = AdaBoostClassifier()\n",
    "model.fit(X, y)\n",
    "\n",
    "# Create a SHAP explainer for the model\n",
    "explainer = shap.KernelExplainer(model.predict_proba, shap.sample(X, 50))\n",
    "\n",
    "#feature names \n",
    "features = data.columns.to_list()\n",
    "\n",
    "# Calculate SHAP values for all samples\n",
    "shap_values = explainer.shap_values(X)\n",
    "\n",
    "# Create a rainbow plot\n",
    "shap.summary_plot(shap_values, X, feature_names=fatures, plot_type=\"bar\", show=False)\n",
    "\n",
    "plt.show()"
   ]
  },
  {
   "cell_type": "code",
   "execution_count": null,
   "id": "77022ee8",
   "metadata": {},
   "outputs": [],
   "source": []
  },
  {
   "cell_type": "markdown",
   "id": "f87c0705",
   "metadata": {},
   "source": [
    "## Conclusion:\n",
    "This is another project in data science where data is obtained from Kaggle. The usual data preprocessing steps are performed, including data cleaning. Exploratory data analysis (EDA) techniques are applied to gain insights from the data, and questions are formulated based on the analysis. Visualizations such as bar charts, pie charts, and other types of charts are created to present the findings. Machine learning algorithms, specifically GradientBoostingClassifier and XGBClassifier, are applied to the data, and they achieve high accuracy scores."
   ]
  },
  {
   "cell_type": "code",
   "execution_count": null,
   "id": "2af406d9",
   "metadata": {},
   "outputs": [],
   "source": []
  }
 ],
 "metadata": {
  "kernelspec": {
   "display_name": "Python 3",
   "language": "python",
   "name": "python3"
  },
  "language_info": {
   "codemirror_mode": {
    "name": "ipython",
    "version": 3
   },
   "file_extension": ".py",
   "mimetype": "text/x-python",
   "name": "python",
   "nbconvert_exporter": "python",
   "pygments_lexer": "ipython3",
   "version": "3.8.8"
  }
 },
 "nbformat": 4,
 "nbformat_minor": 5
}
